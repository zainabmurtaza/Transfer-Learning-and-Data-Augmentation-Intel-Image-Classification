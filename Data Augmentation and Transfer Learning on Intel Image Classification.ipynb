{
  "nbformat": 4,
  "nbformat_minor": 0,
  "metadata": {
    "colab": {
      "name": "CNN - Intel Image Classification.ipynb",
      "provenance": [],
      "collapsed_sections": [],
      "toc_visible": true
    },
    "kernelspec": {
      "name": "python3",
      "display_name": "Python 3"
    },
    "accelerator": "GPU"
  },
  "cells": [
    {
      "cell_type": "markdown",
      "metadata": {
        "id": "XvXStTWldQ1G"
      },
      "source": [
        "#**Intel Image Classification**"
      ]
    },
    {
      "cell_type": "markdown",
      "metadata": {
        "id": "bBGFKbZC5AtG"
      },
      "source": [
        "#Installing Libraries"
      ]
    },
    {
      "cell_type": "code",
      "metadata": {
        "id": "RM8OebF136ZR"
      },
      "source": [
        "import zipfile, os\n",
        "import shutil\n",
        "import math\n",
        "import numpy as np\n",
        "import matplotlib.pyplot as plt\n",
        "import random"
      ],
      "execution_count": null,
      "outputs": []
    },
    {
      "cell_type": "code",
      "metadata": {
        "id": "pAtBNZgk37nX"
      },
      "source": [
        "from tensorflow.keras.preprocessing.image import ImageDataGenerator\n",
        "import tensorflow as tf\n",
        "from tensorflow import keras\n",
        "from tensorflow.keras import layers\n",
        "from tensorflow.keras.models import load_model\n",
        "from tensorflow.keras.models import Model\n",
        "import tensorflow.keras.utils"
      ],
      "execution_count": null,
      "outputs": []
    },
    {
      "cell_type": "markdown",
      "metadata": {
        "id": "JtZCP36z4DOx"
      },
      "source": [
        "#Importing Data"
      ]
    },
    {
      "cell_type": "code",
      "metadata": {
        "id": "7PdLpTsk4IFk",
        "colab": {
          "base_uri": "https://localhost:8080/"
        },
        "outputId": "9e4d850e-4019-485d-9921-1d13b20fedcd"
      },
      "source": [
        "#Fetching data\n",
        "# downloading the files from dropbox\n",
        "!wget --no-check-certificate  \"https://uofi.box.com/shared/static/5tp2foxit52byt2zh9eqnnd8oi3ac9ym.zip\" -O dataset.zip\n",
        "\n",
        "#extracting the zip file download\n",
        "zip_ref = zipfile.ZipFile('dataset.zip', 'r')\n",
        "zip_ref.extractall()"
      ],
      "execution_count": null,
      "outputs": [
        {
          "output_type": "stream",
          "text": [
            "--2020-11-07 18:03:31--  https://uofi.box.com/shared/static/5tp2foxit52byt2zh9eqnnd8oi3ac9ym.zip\n",
            "Resolving uofi.box.com (uofi.box.com)... 185.235.236.197\n",
            "Connecting to uofi.box.com (uofi.box.com)|185.235.236.197|:443... connected.\n",
            "HTTP request sent, awaiting response... 301 Moved Permanently\n",
            "Location: /public/static/5tp2foxit52byt2zh9eqnnd8oi3ac9ym.zip [following]\n",
            "--2020-11-07 18:03:31--  https://uofi.box.com/public/static/5tp2foxit52byt2zh9eqnnd8oi3ac9ym.zip\n",
            "Reusing existing connection to uofi.box.com:443.\n",
            "HTTP request sent, awaiting response... 301 Moved Permanently\n",
            "Location: https://uofi.app.box.com/public/static/5tp2foxit52byt2zh9eqnnd8oi3ac9ym.zip [following]\n",
            "--2020-11-07 18:03:31--  https://uofi.app.box.com/public/static/5tp2foxit52byt2zh9eqnnd8oi3ac9ym.zip\n",
            "Resolving uofi.app.box.com (uofi.app.box.com)... 185.235.236.201\n",
            "Connecting to uofi.app.box.com (uofi.app.box.com)|185.235.236.201|:443... connected.\n",
            "HTTP request sent, awaiting response... 302 Found\n",
            "Location: https://public.boxcloud.com/d/1/b1!snVSxPNWDtXjZVaB9QhaizJEtRpYzHtD0XVO0kdnggo7ygyeytBtrqJqGv9noPsL-krGvJ6gIf3a3JSNeqv-XO3oB-ljdB1Y3YZO6L2fh5btEVWUA0NPyNqyrgvobbhncNmY1h4U-tNiXhCPbGgVjTon3Xl4HNFqMm8Hxr6zr7T7ioQdwXRQ4eoNR3tO0UkAALhGmc14Kz_XsJ6LSykoRF7r9DssLnsiHvnwnv1kPzBuKwoVR3JDlxbfZVhlZoquulEMQYifzMPGQJamO6VXrAafMxY8QZbS6Ovwd_4GXl1TgjKxjiUAioW59oJuDSAciJbycO4lmxbE3RPf5Kq3nT3FFe7XR8pv6izkzDb7NxWfNPUHSab3UMJyqsULiXRQQMYjn1hJF4sAoHSdKwJGqSTeYAJsokHN724upLyyE5Y326x7PvSsKHHfpnnhMOaw2URDy9QkdWX3wYtiZSGl49X5Pv_4tyYETFqDcwRSWEoOK1_50tRNCTpf8l9OQwO2R-gbyap7oSygodkaWPJP7YpUTyicIdqRex4qZR1zL1x5sSQ_ppJ9NsONg9uG1aEBilWSuGt6Q4d8cZ9hZOdCqsjW34zOCol4R0tLVVI2e6s7L-ZtgPZzkXPwx3BBsjoPklwi7Y9EEm1n6JUQhEniH_2key_0gzFidpzoy3IvuEyhRrilRFgAx4Ghu5xygxd3MQEORce0LW9vHtvMnAl-6DxcbxuUIJHt-V56bUqhWt3jWxyj6Ls0p5_CGCXbKZXzAgzA0aXxdSPKBBBD4n6Z1vRKzhgN_95MG4gViLWw1l1_qLGSU0H_AasY4wUXKFwhNU4zVd5EpKyBAEU08CYCZuMO78msJqmzWrd3PtoXt8fk1gl9bQRRlGN5dR-QUKxts_K0Om2ZsKe1VVuaNIBT5qhR-quxy1QFV4MEwyVV6eAfpz-BUcnWM9MOhYFk8qSP5ZicSlbxjdEfq2ONrO_HmPA7ciS3p1yagVtwKZKCn9YljX2wMpMNeLk6cRB-R9bma-WBYOak2FnE7r2WKYlayP07EvyAmFpr0C9voFbcPXS7ZDjlQ_T_b0-Ej9AqxQhS0DvpIMWbj6ZYpKZZUHq9C-3Kqww47s0fV3ObIcLShvV9EqouFkdU_KernQ14t4EgEXnxq9hrw0FLhyxJqZOcygMYzrotdDpt4-Nlgj2YAoz1wSFFLNtSSY0w335kxKgJRKukTN72Kp4eXOvGguKUDghy8m2uCkhpZX1p8PXTOUFs2sIhpsa-7QcWM4YTWnlAbb_USoNft064xOufLLsElSvVyJBktJOtXmNBPy97NHd-XEibtuNvMBTSD04T4Ji4oJNxb71fHNwvDqD-TyTOUxxRflRUm8WlTQ_kVypLp-7z7WHOqQGuaj2h_HrmriR163I0EC8XMHikvu5583AxrQ../download [following]\n",
            "--2020-11-07 18:03:32--  https://public.boxcloud.com/d/1/b1!snVSxPNWDtXjZVaB9QhaizJEtRpYzHtD0XVO0kdnggo7ygyeytBtrqJqGv9noPsL-krGvJ6gIf3a3JSNeqv-XO3oB-ljdB1Y3YZO6L2fh5btEVWUA0NPyNqyrgvobbhncNmY1h4U-tNiXhCPbGgVjTon3Xl4HNFqMm8Hxr6zr7T7ioQdwXRQ4eoNR3tO0UkAALhGmc14Kz_XsJ6LSykoRF7r9DssLnsiHvnwnv1kPzBuKwoVR3JDlxbfZVhlZoquulEMQYifzMPGQJamO6VXrAafMxY8QZbS6Ovwd_4GXl1TgjKxjiUAioW59oJuDSAciJbycO4lmxbE3RPf5Kq3nT3FFe7XR8pv6izkzDb7NxWfNPUHSab3UMJyqsULiXRQQMYjn1hJF4sAoHSdKwJGqSTeYAJsokHN724upLyyE5Y326x7PvSsKHHfpnnhMOaw2URDy9QkdWX3wYtiZSGl49X5Pv_4tyYETFqDcwRSWEoOK1_50tRNCTpf8l9OQwO2R-gbyap7oSygodkaWPJP7YpUTyicIdqRex4qZR1zL1x5sSQ_ppJ9NsONg9uG1aEBilWSuGt6Q4d8cZ9hZOdCqsjW34zOCol4R0tLVVI2e6s7L-ZtgPZzkXPwx3BBsjoPklwi7Y9EEm1n6JUQhEniH_2key_0gzFidpzoy3IvuEyhRrilRFgAx4Ghu5xygxd3MQEORce0LW9vHtvMnAl-6DxcbxuUIJHt-V56bUqhWt3jWxyj6Ls0p5_CGCXbKZXzAgzA0aXxdSPKBBBD4n6Z1vRKzhgN_95MG4gViLWw1l1_qLGSU0H_AasY4wUXKFwhNU4zVd5EpKyBAEU08CYCZuMO78msJqmzWrd3PtoXt8fk1gl9bQRRlGN5dR-QUKxts_K0Om2ZsKe1VVuaNIBT5qhR-quxy1QFV4MEwyVV6eAfpz-BUcnWM9MOhYFk8qSP5ZicSlbxjdEfq2ONrO_HmPA7ciS3p1yagVtwKZKCn9YljX2wMpMNeLk6cRB-R9bma-WBYOak2FnE7r2WKYlayP07EvyAmFpr0C9voFbcPXS7ZDjlQ_T_b0-Ej9AqxQhS0DvpIMWbj6ZYpKZZUHq9C-3Kqww47s0fV3ObIcLShvV9EqouFkdU_KernQ14t4EgEXnxq9hrw0FLhyxJqZOcygMYzrotdDpt4-Nlgj2YAoz1wSFFLNtSSY0w335kxKgJRKukTN72Kp4eXOvGguKUDghy8m2uCkhpZX1p8PXTOUFs2sIhpsa-7QcWM4YTWnlAbb_USoNft064xOufLLsElSvVyJBktJOtXmNBPy97NHd-XEibtuNvMBTSD04T4Ji4oJNxb71fHNwvDqD-TyTOUxxRflRUm8WlTQ_kVypLp-7z7WHOqQGuaj2h_HrmriR163I0EC8XMHikvu5583AxrQ../download\n",
            "Resolving public.boxcloud.com (public.boxcloud.com)... 185.235.236.200\n",
            "Connecting to public.boxcloud.com (public.boxcloud.com)|185.235.236.200|:443... connected.\n",
            "HTTP request sent, awaiting response... 200 OK\n",
            "Length: 254578215 (243M) [application/zip]\n",
            "Saving to: ‘dataset.zip’\n",
            "\n",
            "dataset.zip         100%[===================>] 242.78M  11.6MB/s    in 22s     \n",
            "\n",
            "2020-11-07 18:03:54 (11.0 MB/s) - ‘dataset.zip’ saved [254578215/254578215]\n",
            "\n"
          ],
          "name": "stdout"
        }
      ]
    },
    {
      "cell_type": "markdown",
      "metadata": {
        "id": "WV0NpG-Q4yAD"
      },
      "source": [
        "#Counting Images in Every Category"
      ]
    },
    {
      "cell_type": "code",
      "metadata": {
        "id": "oFmM4blK5NV8",
        "colab": {
          "base_uri": "https://localhost:8080/"
        },
        "outputId": "1fe6ebdb-e0ae-4caa-f693-5fa589164926"
      },
      "source": [
        "print('Training: total buildings:', len(os.listdir('intel/seg_train/buildings')))\n",
        "print('Training: total street:', len(os.listdir('intel/seg_train/street')))\n",
        "print('Training: total forest:', len(os.listdir('intel/seg_train/forest')))\n",
        "print('Training: total glacier:', len(os.listdir('intel/seg_train/glacier')))\n",
        "print('Training: total mountain:', len(os.listdir('intel/seg_train/mountain')))\n",
        "print('Training: total sea:', len(os.listdir('intel/seg_train/sea')))\n",
        "print('\\n')\n",
        "print('\\n')\n",
        "print('Testing: total buildings:', len(os.listdir('intel/seg_test/buildings')))\n",
        "print('Testing: total street:', len(os.listdir('intel/seg_test/street')))\n",
        "print('Testing: total forest:', len(os.listdir('intel/seg_test/forest')))\n",
        "print('Testing: total glacier:', len(os.listdir('intel/seg_test/glacier')))\n",
        "print('Testing: total mountain:', len(os.listdir('intel/seg_test/mountain')))\n",
        "print('Testing: total sea:', len(os.listdir('intel/seg_test/sea')))"
      ],
      "execution_count": null,
      "outputs": [
        {
          "output_type": "stream",
          "text": [
            "Training: total buildings: 2191\n",
            "Training: total street: 2382\n",
            "Training: total forest: 2271\n",
            "Training: total glacier: 2404\n",
            "Training: total mountain: 2512\n",
            "Training: total sea: 2274\n",
            "\n",
            "\n",
            "\n",
            "\n",
            "Testing: total buildings: 437\n",
            "Testing: total street: 501\n",
            "Testing: total forest: 474\n",
            "Testing: total glacier: 553\n",
            "Testing: total mountain: 525\n",
            "Testing: total sea: 510\n"
          ],
          "name": "stdout"
        }
      ]
    },
    {
      "cell_type": "markdown",
      "metadata": {
        "id": "wPNTVy256KoZ"
      },
      "source": [
        "##Creating Validation Directory & Redirecting Data to Subdirectories"
      ]
    },
    {
      "cell_type": "code",
      "metadata": {
        "id": "PNGo_aYj69pO"
      },
      "source": [
        "valDir = 'seg_val'\n",
        "baseDir = 'intel'\n",
        "trainDir = 'seg_train'\n",
        "testDir = 'seg_test'\n",
        "\n",
        "if(os.path.exists(os.path.join(baseDir, valDir))):\n",
        "    shutil.rmtree(os.path.join(baseDir, valDir))\n",
        "    \n",
        "os.mkdir(os.path.join(baseDir, valDir))\n",
        "\n",
        "split_perc = 0.20\n",
        "\n",
        "for dir in os.listdir(os.path.join(baseDir, trainDir)):\n",
        "  os.mkdir(os.path.join(baseDir, valDir, dir))\n",
        "  valCount = math.ceil(len(os.listdir(os.path.join(baseDir, trainDir, dir))) * split_perc)\n",
        "  catDir = os.listdir(os.path.join(baseDir, trainDir, dir))\n",
        "\n",
        "  for file in random.sample(catDir, valCount):\n",
        "    shutil.move(os.path.join(baseDir, trainDir, dir, file), os.path.join(baseDir, valDir, dir, file))"
      ],
      "execution_count": null,
      "outputs": []
    },
    {
      "cell_type": "markdown",
      "metadata": {
        "id": "0jJvY1ql8IMs"
      },
      "source": [
        "###Training and Validation Data Redirection"
      ]
    },
    {
      "cell_type": "code",
      "metadata": {
        "id": "7vz025U_8QPJ",
        "colab": {
          "base_uri": "https://localhost:8080/"
        },
        "outputId": "62beba09-4bc4-4e23-cfc8-770a67929f4b"
      },
      "source": [
        "\n",
        "for dir in os.listdir(os.path.join(baseDir, trainDir)):\n",
        "  print('Cumulative images (training) : ', dir,':', len(os.listdir(os.path.join(baseDir, trainDir, dir))))\n",
        "print('\\n')\n",
        "\n",
        "\n",
        "for dir in os.listdir(os.path.join(baseDir, valDir)):\n",
        "  print('Cumulative images (validation) : ', dir,':', len(os.listdir(os.path.join(baseDir, valDir, dir))))\n"
      ],
      "execution_count": null,
      "outputs": [
        {
          "output_type": "stream",
          "text": [
            "Cumulative images (training) :  street : 1905\n",
            "Cumulative images (training) :  buildings : 1752\n",
            "Cumulative images (training) :  sea : 1819\n",
            "Cumulative images (training) :  mountain : 2009\n",
            "Cumulative images (training) :  forest : 1816\n",
            "Cumulative images (training) :  glacier : 1923\n",
            "\n",
            "\n",
            "Cumulative images (validation) :  street : 477\n",
            "Cumulative images (validation) :  buildings : 439\n",
            "Cumulative images (validation) :  sea : 455\n",
            "Cumulative images (validation) :  mountain : 503\n",
            "Cumulative images (validation) :  forest : 455\n",
            "Cumulative images (validation) :  glacier : 481\n"
          ],
          "name": "stdout"
        }
      ]
    },
    {
      "cell_type": "markdown",
      "metadata": {
        "id": "FUs_0Ohr8p9G"
      },
      "source": [
        "###Creating Image Data Generators for Train and Validation Sets"
      ]
    },
    {
      "cell_type": "code",
      "metadata": {
        "id": "WE5eYfYC8ysU",
        "colab": {
          "base_uri": "https://localhost:8080/"
        },
        "outputId": "8c232f8a-ea4c-42bc-f24e-8c7716b52256"
      },
      "source": [
        "train_dir = os.path.join(baseDir, trainDir)\n",
        "validation_dir = os.path.join(baseDir, valDir)\n",
        "\n",
        "# Objects named imageDataGenerator for each respective set of data. The rescaling value rescale=1./255 enables image normalization by dividing individual values of every pixel by 255.\n",
        "train_datagen = ImageDataGenerator(rescale=1./255)\n",
        "val_datagen = ImageDataGenerator(rescale=1./255)\n",
        "\n",
        "BATCH_SIZE=50\n",
        "\n",
        "train_generator = train_datagen.flow_from_directory(\n",
        "  #Retrieving training data from this directory:\n",
        "  train_dir,\n",
        "  #Images are resized to 150*150\n",
        "  target_size=(150, 150),\n",
        "  #Defining minibatch size: \n",
        "  batch_size=BATCH_SIZE,\n",
        "  #sparse is used as labels are encoded as integers\n",
        "  class_mode='sparse')\n",
        "\n",
        "\n",
        "validation_generator = val_datagen.flow_from_directory(\n",
        "    #Directory retrieving train data:\n",
        "    validation_dir,\n",
        "    #Image resized to 150*150\n",
        "    target_size=(150, 150),\n",
        "    #Defining minibatch size: \n",
        "    batch_size=BATCH_SIZE,\n",
        "    #Used the following as the loss function will pertain as sparse_categorical_crossentropy. the labels are encoded as integer labels\n",
        "    class_mode='sparse')\n"
      ],
      "execution_count": null,
      "outputs": [
        {
          "output_type": "stream",
          "text": [
            "Found 11224 images belonging to 6 classes.\n",
            "Found 2810 images belonging to 6 classes.\n"
          ],
          "name": "stdout"
        }
      ]
    },
    {
      "cell_type": "markdown",
      "metadata": {
        "id": "hHWzt0qLF_iA"
      },
      "source": [
        "#Developing Baseline CNN Model"
      ]
    },
    {
      "cell_type": "markdown",
      "metadata": {
        "id": "DpGhboF0GNZG"
      },
      "source": [
        "##Model Architecture"
      ]
    },
    {
      "cell_type": "code",
      "metadata": {
        "id": "aDgA3fU0GQ2Y",
        "colab": {
          "base_uri": "https://localhost:8080/"
        },
        "outputId": "f4bae93d-e6c6-4b3c-df83-bba0767845e7"
      },
      "source": [
        "def build_baseline():\n",
        "  model=keras.Sequential(\n",
        "    [\n",
        "        # First Convolution Layer & Max Pooling Layer  \n",
        "        layers.Conv2D(32, (3, 3), activation='relu', padding=\"same\",input_shape=(150, 150, 3)),\n",
        "        layers.BatchNormalization(),\n",
        "        layers.MaxPooling2D((2, 2)),\n",
        "        # Second Convolution Layer & Max Pooling Layer\n",
        "        layers.Conv2D(64, (3, 3), padding=\"same\", activation='relu'),\n",
        "        layers.BatchNormalization(),\n",
        "        layers.MaxPooling2D((2, 2)),\n",
        "\n",
        "        # Third Convolution Layer & Max Pooling Layer\n",
        "        layers.Conv2D(128, (3, 3), padding=\"same\",activation='relu'),\n",
        "        layers.BatchNormalization(),\n",
        "        layers.MaxPooling2D((2, 2)),\n",
        "        # Fourth Convolution Layer & Max Pooling Layer\n",
        "        layers.Conv2D(128, (3, 3), padding=\"same\",activation='relu'),\n",
        "        layers.BatchNormalization(),\n",
        "        layers.MaxPooling2D((2, 2)),\n",
        "\n",
        "        #Global Average Pooling Layer\n",
        "        layers.GlobalAveragePooling2D(),\n",
        "\n",
        "        # Sigmoid Activation in a Dense Output Layer   \n",
        "        layers.Dense(6, activation= 'softmax')\n",
        "    ])\n",
        "  \n",
        "# Model Compilation\n",
        "  \n",
        "  #Learning Rate Scheduling\n",
        "  lr_schedule = keras.optimizers.schedules.ExponentialDecay(\n",
        "    initial_learning_rate=1e-4,\n",
        "    decay_steps=1000,\n",
        "    decay_rate=0.9)\n",
        "\n",
        "  #Configuration and compilation\n",
        "  opt = tf.keras.optimizers.Adam(learning_rate=lr_schedule)\n",
        "  model.compile(loss='sparse_categorical_crossentropy', metrics=['accuracy'], optimizer=opt)\n",
        " \n",
        "  return model\n",
        "\n",
        "model=build_baseline()\n",
        "print(model.summary())"
      ],
      "execution_count": null,
      "outputs": [
        {
          "output_type": "stream",
          "text": [
            "Model: \"sequential\"\n",
            "_________________________________________________________________\n",
            "Layer (type)                 Output Shape              Param #   \n",
            "=================================================================\n",
            "conv2d (Conv2D)              (None, 150, 150, 32)      896       \n",
            "_________________________________________________________________\n",
            "batch_normalization (BatchNo (None, 150, 150, 32)      128       \n",
            "_________________________________________________________________\n",
            "max_pooling2d (MaxPooling2D) (None, 75, 75, 32)        0         \n",
            "_________________________________________________________________\n",
            "conv2d_1 (Conv2D)            (None, 75, 75, 64)        18496     \n",
            "_________________________________________________________________\n",
            "batch_normalization_1 (Batch (None, 75, 75, 64)        256       \n",
            "_________________________________________________________________\n",
            "max_pooling2d_1 (MaxPooling2 (None, 37, 37, 64)        0         \n",
            "_________________________________________________________________\n",
            "conv2d_2 (Conv2D)            (None, 37, 37, 128)       73856     \n",
            "_________________________________________________________________\n",
            "batch_normalization_2 (Batch (None, 37, 37, 128)       512       \n",
            "_________________________________________________________________\n",
            "max_pooling2d_2 (MaxPooling2 (None, 18, 18, 128)       0         \n",
            "_________________________________________________________________\n",
            "conv2d_3 (Conv2D)            (None, 18, 18, 128)       147584    \n",
            "_________________________________________________________________\n",
            "batch_normalization_3 (Batch (None, 18, 18, 128)       512       \n",
            "_________________________________________________________________\n",
            "max_pooling2d_3 (MaxPooling2 (None, 9, 9, 128)         0         \n",
            "_________________________________________________________________\n",
            "global_average_pooling2d (Gl (None, 128)               0         \n",
            "_________________________________________________________________\n",
            "dense (Dense)                (None, 6)                 774       \n",
            "=================================================================\n",
            "Total params: 243,014\n",
            "Trainable params: 242,310\n",
            "Non-trainable params: 704\n",
            "_________________________________________________________________\n",
            "None\n"
          ],
          "name": "stdout"
        }
      ]
    },
    {
      "cell_type": "markdown",
      "metadata": {
        "id": "aC2o7b5EJ29v"
      },
      "source": [
        "###Model Training"
      ]
    },
    {
      "cell_type": "code",
      "metadata": {
        "id": "Cft49ri9J5Vu",
        "colab": {
          "base_uri": "https://localhost:8080/"
        },
        "outputId": "127a9f1c-8dd9-4498-87ad-0fd2bc8346a5"
      },
      "source": [
        "#For Early Stopping Instantiating Callback\n",
        "callback = tf.keras.callbacks.EarlyStopping(monitor='val_accuracy', patience=10, min_delta=1e-3, restore_best_weights=True)\n",
        "\n",
        "#Training\n",
        "history = model.fit(\n",
        "            train_generator,\n",
        "            validation_data = validation_generator,\n",
        "            steps_per_epoch = math.ceil(train_generator.samples/BATCH_SIZE) ,\n",
        "            epochs = 60,\n",
        "            validation_steps = math.ceil(validation_generator.samples/BATCH_SIZE),\n",
        "            callbacks=callback,\n",
        "            verbose = 1)\n",
        "\n",
        "model.save(\"intel-baseline.h5\")"
      ],
      "execution_count": null,
      "outputs": [
        {
          "output_type": "stream",
          "text": [
            "Epoch 1/60\n",
            "225/225 [==============================] - 18s 79ms/step - loss: 0.8707 - accuracy: 0.6811 - val_loss: 3.3037 - val_accuracy: 0.1619\n",
            "Epoch 2/60\n",
            "225/225 [==============================] - 17s 76ms/step - loss: 0.6331 - accuracy: 0.7742 - val_loss: 1.9531 - val_accuracy: 0.3843\n",
            "Epoch 3/60\n",
            "225/225 [==============================] - 17s 75ms/step - loss: 0.5521 - accuracy: 0.8108 - val_loss: 0.6265 - val_accuracy: 0.7648\n",
            "Epoch 4/60\n",
            "225/225 [==============================] - 17s 75ms/step - loss: 0.5132 - accuracy: 0.8175 - val_loss: 0.5227 - val_accuracy: 0.8093\n",
            "Epoch 5/60\n",
            "225/225 [==============================] - 17s 75ms/step - loss: 0.4685 - accuracy: 0.8364 - val_loss: 0.4815 - val_accuracy: 0.8256\n",
            "Epoch 6/60\n",
            "225/225 [==============================] - 17s 74ms/step - loss: 0.4347 - accuracy: 0.8520 - val_loss: 0.4413 - val_accuracy: 0.8512\n",
            "Epoch 7/60\n",
            "225/225 [==============================] - 17s 74ms/step - loss: 0.4100 - accuracy: 0.8605 - val_loss: 0.4414 - val_accuracy: 0.8299\n",
            "Epoch 8/60\n",
            "225/225 [==============================] - 16s 73ms/step - loss: 0.3870 - accuracy: 0.8675 - val_loss: 0.4539 - val_accuracy: 0.8317\n",
            "Epoch 9/60\n",
            "225/225 [==============================] - 17s 74ms/step - loss: 0.3715 - accuracy: 0.8738 - val_loss: 0.4210 - val_accuracy: 0.8459\n",
            "Epoch 10/60\n",
            "225/225 [==============================] - 17s 74ms/step - loss: 0.3479 - accuracy: 0.8852 - val_loss: 0.4245 - val_accuracy: 0.8391\n",
            "Epoch 11/60\n",
            "225/225 [==============================] - 16s 73ms/step - loss: 0.3342 - accuracy: 0.8896 - val_loss: 0.3957 - val_accuracy: 0.8577\n",
            "Epoch 12/60\n",
            "225/225 [==============================] - 16s 73ms/step - loss: 0.3166 - accuracy: 0.8964 - val_loss: 0.4220 - val_accuracy: 0.8523\n",
            "Epoch 13/60\n",
            "225/225 [==============================] - 16s 73ms/step - loss: 0.3024 - accuracy: 0.9030 - val_loss: 0.3756 - val_accuracy: 0.8601\n",
            "Epoch 14/60\n",
            "225/225 [==============================] - 16s 73ms/step - loss: 0.2917 - accuracy: 0.9059 - val_loss: 0.3835 - val_accuracy: 0.8591\n",
            "Epoch 15/60\n",
            "225/225 [==============================] - 16s 73ms/step - loss: 0.2739 - accuracy: 0.9130 - val_loss: 0.3827 - val_accuracy: 0.8658\n",
            "Epoch 16/60\n",
            "225/225 [==============================] - 16s 73ms/step - loss: 0.2614 - accuracy: 0.9177 - val_loss: 0.3772 - val_accuracy: 0.8580\n",
            "Epoch 17/60\n",
            "225/225 [==============================] - 16s 72ms/step - loss: 0.2540 - accuracy: 0.9206 - val_loss: 0.4129 - val_accuracy: 0.8502\n",
            "Epoch 18/60\n",
            "225/225 [==============================] - 16s 71ms/step - loss: 0.2393 - accuracy: 0.9301 - val_loss: 0.3770 - val_accuracy: 0.8633\n",
            "Epoch 19/60\n",
            "225/225 [==============================] - 16s 72ms/step - loss: 0.2303 - accuracy: 0.9303 - val_loss: 0.3865 - val_accuracy: 0.8584\n",
            "Epoch 20/60\n",
            "225/225 [==============================] - 16s 72ms/step - loss: 0.2231 - accuracy: 0.9341 - val_loss: 0.3519 - val_accuracy: 0.8737\n",
            "Epoch 21/60\n",
            "225/225 [==============================] - 16s 71ms/step - loss: 0.2090 - accuracy: 0.9410 - val_loss: 0.3652 - val_accuracy: 0.8637\n",
            "Epoch 22/60\n",
            "225/225 [==============================] - 16s 72ms/step - loss: 0.1994 - accuracy: 0.9441 - val_loss: 0.3439 - val_accuracy: 0.8712\n",
            "Epoch 23/60\n",
            "225/225 [==============================] - 16s 72ms/step - loss: 0.1901 - accuracy: 0.9480 - val_loss: 0.3342 - val_accuracy: 0.8811\n",
            "Epoch 24/60\n",
            "225/225 [==============================] - 16s 72ms/step - loss: 0.1830 - accuracy: 0.9534 - val_loss: 0.3352 - val_accuracy: 0.8779\n",
            "Epoch 25/60\n",
            "225/225 [==============================] - 16s 71ms/step - loss: 0.1781 - accuracy: 0.9508 - val_loss: 0.3506 - val_accuracy: 0.8694\n",
            "Epoch 26/60\n",
            "225/225 [==============================] - 16s 70ms/step - loss: 0.1681 - accuracy: 0.9560 - val_loss: 0.3371 - val_accuracy: 0.8786\n",
            "Epoch 27/60\n",
            "225/225 [==============================] - 16s 72ms/step - loss: 0.1602 - accuracy: 0.9599 - val_loss: 0.3232 - val_accuracy: 0.8868\n",
            "Epoch 28/60\n",
            "225/225 [==============================] - 16s 72ms/step - loss: 0.1523 - accuracy: 0.9632 - val_loss: 0.3335 - val_accuracy: 0.8815\n",
            "Epoch 29/60\n",
            "225/225 [==============================] - 17s 73ms/step - loss: 0.1466 - accuracy: 0.9661 - val_loss: 0.3500 - val_accuracy: 0.8819\n",
            "Epoch 30/60\n",
            "225/225 [==============================] - 16s 73ms/step - loss: 0.1421 - accuracy: 0.9679 - val_loss: 0.3250 - val_accuracy: 0.8815\n",
            "Epoch 31/60\n",
            "225/225 [==============================] - 16s 72ms/step - loss: 0.1360 - accuracy: 0.9682 - val_loss: 0.3467 - val_accuracy: 0.8794\n",
            "Epoch 32/60\n",
            "225/225 [==============================] - 16s 72ms/step - loss: 0.1268 - accuracy: 0.9737 - val_loss: 0.3673 - val_accuracy: 0.8694\n",
            "Epoch 33/60\n",
            "225/225 [==============================] - 16s 72ms/step - loss: 0.1226 - accuracy: 0.9736 - val_loss: 0.3111 - val_accuracy: 0.8843\n",
            "Epoch 34/60\n",
            "225/225 [==============================] - 17s 73ms/step - loss: 0.1179 - accuracy: 0.9766 - val_loss: 0.3259 - val_accuracy: 0.8851\n",
            "Epoch 35/60\n",
            "225/225 [==============================] - 17s 74ms/step - loss: 0.1100 - accuracy: 0.9797 - val_loss: 0.3429 - val_accuracy: 0.8751\n",
            "Epoch 36/60\n",
            "225/225 [==============================] - 17s 74ms/step - loss: 0.1097 - accuracy: 0.9788 - val_loss: 0.3269 - val_accuracy: 0.8801\n",
            "Epoch 37/60\n",
            "225/225 [==============================] - 17s 74ms/step - loss: 0.1018 - accuracy: 0.9816 - val_loss: 0.3463 - val_accuracy: 0.8779\n"
          ],
          "name": "stdout"
        }
      ]
    },
    {
      "cell_type": "markdown",
      "metadata": {
        "id": "CetSFtGgP-oj"
      },
      "source": [
        "###Learning Curves"
      ]
    },
    {
      "cell_type": "code",
      "metadata": {
        "id": "XSLGLzhkQB9V"
      },
      "source": [
        "# To plot accuracy and loss, we first define the following function:\n",
        "def plot_measures(historyObj):\n",
        "\n",
        "  #Defining Accuracies for Training and Validation:\n",
        "  train_acc_CNN = historyObj.history['accuracy']\n",
        "  val_acc_CNN = historyObj.history['val_accuracy']\n",
        "\n",
        "  #Defining Losses for Training and Validation:\n",
        "  train_loss_CNN = historyObj.history['loss']\n",
        "  val_loss_CNN = historyObj.history['val_loss']\n",
        "  epochs = range(1, len(train_loss_CNN) + 1)\n",
        "\n",
        "  #Accuracy Plots:\n",
        "  plt.plot(epochs, train_acc_CNN, 'b', label='Training Accuracies')\n",
        "  plt.plot(epochs, val_acc_CNN, 'r', label='Validation Accuracies')\n",
        "  plt.title('Training & Validation Accuracies for the model')\n",
        "  plt.legend()\n",
        "  plt.figure()\n",
        "\n",
        "  #Loss Plots:\n",
        "  plt.plot(epochs, train_loss_CNN, 'b', label='Training Losses')\n",
        "  plt.plot(epochs, val_loss_CNN, 'r', label='Validation Losses')\n",
        "  plt.title('Training & Validation Losses for the model')\n",
        "  plt.legend()\n",
        "\n",
        "  plt.show()\n",
        "\n",
        "  return"
      ],
      "execution_count": null,
      "outputs": []
    },
    {
      "cell_type": "code",
      "metadata": {
        "id": "zGZsmUWmS5Qc",
        "colab": {
          "base_uri": "https://localhost:8080/",
          "height": 545
        },
        "outputId": "b322da8e-12da-4907-e04f-46010a628b7b"
      },
      "source": [
        "plot_measures(history)"
      ],
      "execution_count": null,
      "outputs": [
        {
          "output_type": "display_data",
          "data": {
            "image/png": "[encoded data removed]",
            "text/plain": [
              "<Figure size 432x288 with 1 Axes>"
            ]
          },
          "metadata": {
            "tags": [],
            "needs_background": "light"
          }
        },
        {
          "output_type": "display_data",
          "data": {
            "image/png": "[encoded data removed]",
            "text/plain": [
              "<Figure size 432x288 with 1 Axes>"
            ]
          },
          "metadata": {
            "tags": [],
            "needs_background": "light"
          }
        }
      ]
    },
    {
      "cell_type": "markdown",
      "metadata": {
        "id": "2sWMwcM7TuRH"
      },
      "source": [
        "**NOTE**: Mild overfitting can be deduced from this model. The increase in epochs and accuracies display a directly proportional relationship- as epochs increase, so does the accuracy. Validation accuracy illustrates slight irregularities with accuracy fluctuations.\n",
        "The losses represent an inversely proportional relationship with the number of epochs- decrease in losses as epochs increase.\n",
        "\n",
        "\n",
        "The drastic aspects of these plots can be found within the initial epochs- accuracies displaying massive increase and losses possessing a large decrease. These behaviours gradually stabilize, but remain steady in their progressive trend as the number of epochs increase. \n",
        "\n",
        "Validation Accuracy meanders around 85% but is increasing slowly nonetheless. Additional epochs would further substantiate increased accuracy.\n",
        "Since the model does not overfit, we will try increasing the capacity of the model by adding a few more convolutional layers:"
      ]
    },
    {
      "cell_type": "markdown",
      "metadata": {
        "id": "Yj2Z7NJ9YOvC"
      },
      "source": [
        "####Increasing Model Capacity"
      ]
    },
    {
      "cell_type": "code",
      "metadata": {
        "id": "Ooey2zgTYVuD",
        "colab": {
          "base_uri": "https://localhost:8080/"
        },
        "outputId": "4ab09542-1de6-4ac2-d319-5ae5dc344440"
      },
      "source": [
        "model=keras.Sequential(\n",
        "  [\n",
        "      # First Convolutional Layer & Max Pooling Layer  \n",
        "      layers.Conv2D(32, (3, 3), activation='relu', padding=\"same\",input_shape=(150, 150, 3)),\n",
        "      layers.BatchNormalization(),\n",
        "      layers.MaxPooling2D((2, 2)),\n",
        "      # Second Convolutional Layer & Max Pooling Layer \n",
        "      layers.Conv2D(64, (3, 3), padding=\"same\", activation='relu'),\n",
        "      layers.BatchNormalization(),\n",
        "      layers.MaxPooling2D((2, 2)),\n",
        "      # Third Convolutional Layer & Max Pooling Layer \n",
        "      layers.Conv2D(128, (3, 3), padding=\"same\",activation='relu'),\n",
        "      layers.BatchNormalization(),\n",
        "      layers.MaxPooling2D((2, 2)),\n",
        "      # Fourth Convolutional Layer & Max Pooling Layer \n",
        "      layers.Conv2D(256, (3, 3), padding=\"same\",activation='relu'),\n",
        "      layers.BatchNormalization(),\n",
        "      layers.MaxPooling2D((2, 2)),\n",
        "      # Fifth Convolutional Layer & Max Pooling Layer \n",
        "      layers.Conv2D(256, (3, 3), padding=\"same\",activation='relu'),\n",
        "      layers.BatchNormalization(),\n",
        "      layers.MaxPooling2D((2, 2)),\n",
        "      #Global Average Pooling Layer\n",
        "      layers.GlobalAveragePooling2D(),\n",
        "\n",
        "      #Sigmoid Activation in a Dense Output Layer   \n",
        "      layers.Dense(6, activation= 'softmax')\n",
        "  ])\n",
        "\n",
        "# Model Compilation\n",
        "\n",
        "#Learning Rate Scheduling\n",
        "lr_schedule = keras.optimizers.schedules.ExponentialDecay(\n",
        "  initial_learning_rate=1e-4,\n",
        "  decay_steps=1000,\n",
        "  decay_rate=0.9)\n",
        "\n",
        "#Model Compilation & Configuration \n",
        "opt = tf.keras.optimizers.Adam(learning_rate=lr_schedule)\n",
        "model.compile(loss='sparse_categorical_crossentropy', metrics=['accuracy'], optimizer=opt)\n",
        "\n",
        "#Early Stopping Callback\n",
        "callback = tf.keras.callbacks.EarlyStopping(monitor='val_accuracy', patience=10, min_delta=1e-3, restore_best_weights=True)\n",
        "\n",
        "#Training\n",
        "history = model.fit(\n",
        "            train_generator,\n",
        "            validation_data = validation_generator,\n",
        "            steps_per_epoch = math.ceil(train_generator.samples/BATCH_SIZE) ,\n",
        "            epochs = 100,\n",
        "            validation_steps = math.ceil(validation_generator.samples/BATCH_SIZE),\n",
        "            callbacks=callback,\n",
        "            verbose = 1)"
      ],
      "execution_count": null,
      "outputs": [
        {
          "output_type": "stream",
          "text": [
            "Epoch 1/100\n",
            "225/225 [==============================] - 17s 75ms/step - loss: 0.7329 - accuracy: 0.7287 - val_loss: 2.8322 - val_accuracy: 0.1619\n",
            "Epoch 2/100\n",
            "225/225 [==============================] - 17s 75ms/step - loss: 0.4949 - accuracy: 0.8234 - val_loss: 0.9782 - val_accuracy: 0.5989\n",
            "Epoch 3/100\n",
            "225/225 [==============================] - 17s 74ms/step - loss: 0.4054 - accuracy: 0.8570 - val_loss: 0.5028 - val_accuracy: 0.8292\n",
            "Epoch 4/100\n",
            "225/225 [==============================] - 17s 75ms/step - loss: 0.3283 - accuracy: 0.8883 - val_loss: 0.4848 - val_accuracy: 0.8270\n",
            "Epoch 5/100\n",
            "225/225 [==============================] - 17s 76ms/step - loss: 0.2623 - accuracy: 0.9175 - val_loss: 0.4059 - val_accuracy: 0.8548\n",
            "Epoch 6/100\n",
            "225/225 [==============================] - 17s 76ms/step - loss: 0.2103 - accuracy: 0.9342 - val_loss: 0.5553 - val_accuracy: 0.8160\n",
            "Epoch 7/100\n",
            "225/225 [==============================] - 17s 76ms/step - loss: 0.1567 - accuracy: 0.9582 - val_loss: 0.5287 - val_accuracy: 0.8203\n",
            "Epoch 8/100\n",
            "225/225 [==============================] - 17s 76ms/step - loss: 0.1136 - accuracy: 0.9725 - val_loss: 0.4011 - val_accuracy: 0.8584\n",
            "Epoch 9/100\n",
            "225/225 [==============================] - 17s 76ms/step - loss: 0.0882 - accuracy: 0.9819 - val_loss: 0.4100 - val_accuracy: 0.8580\n",
            "Epoch 10/100\n",
            "225/225 [==============================] - 17s 75ms/step - loss: 0.0690 - accuracy: 0.9868 - val_loss: 0.3891 - val_accuracy: 0.8626\n",
            "Epoch 11/100\n",
            "225/225 [==============================] - 17s 76ms/step - loss: 0.0545 - accuracy: 0.9921 - val_loss: 0.4586 - val_accuracy: 0.8463\n",
            "Epoch 12/100\n",
            "225/225 [==============================] - 17s 75ms/step - loss: 0.0427 - accuracy: 0.9944 - val_loss: 0.4028 - val_accuracy: 0.8655\n",
            "Epoch 13/100\n",
            "225/225 [==============================] - 17s 76ms/step - loss: 0.0342 - accuracy: 0.9958 - val_loss: 0.3733 - val_accuracy: 0.8758\n",
            "Epoch 14/100\n",
            "225/225 [==============================] - 17s 76ms/step - loss: 0.0272 - accuracy: 0.9976 - val_loss: 0.3845 - val_accuracy: 0.8719\n",
            "Epoch 15/100\n",
            "225/225 [==============================] - 17s 76ms/step - loss: 0.0227 - accuracy: 0.9982 - val_loss: 0.4440 - val_accuracy: 0.8544\n",
            "Epoch 16/100\n",
            "225/225 [==============================] - 17s 76ms/step - loss: 0.0206 - accuracy: 0.9981 - val_loss: 0.3910 - val_accuracy: 0.8712\n",
            "Epoch 17/100\n",
            "225/225 [==============================] - 17s 76ms/step - loss: 0.0202 - accuracy: 0.9981 - val_loss: 0.4732 - val_accuracy: 0.8502\n",
            "Epoch 18/100\n",
            "225/225 [==============================] - 17s 76ms/step - loss: 0.0161 - accuracy: 0.9990 - val_loss: 0.3916 - val_accuracy: 0.8740\n",
            "Epoch 19/100\n",
            "225/225 [==============================] - 17s 77ms/step - loss: 0.0144 - accuracy: 0.9989 - val_loss: 0.4308 - val_accuracy: 0.8673\n",
            "Epoch 20/100\n",
            "225/225 [==============================] - 17s 76ms/step - loss: 0.0146 - accuracy: 0.9988 - val_loss: 0.4804 - val_accuracy: 0.8591\n",
            "Epoch 21/100\n",
            "225/225 [==============================] - 17s 77ms/step - loss: 0.0152 - accuracy: 0.9987 - val_loss: 0.4735 - val_accuracy: 0.8566\n",
            "Epoch 22/100\n",
            "225/225 [==============================] - 17s 77ms/step - loss: 0.0134 - accuracy: 0.9988 - val_loss: 0.4536 - val_accuracy: 0.8594\n",
            "Epoch 23/100\n",
            "225/225 [==============================] - 17s 77ms/step - loss: 0.0173 - accuracy: 0.9974 - val_loss: 0.6213 - val_accuracy: 0.8199\n"
          ],
          "name": "stdout"
        }
      ]
    },
    {
      "cell_type": "markdown",
      "metadata": {
        "id": "vdrwNutccwGr"
      },
      "source": [
        "####Learning Curves"
      ]
    },
    {
      "cell_type": "code",
      "metadata": {
        "id": "LMkI-5icc2Nt",
        "colab": {
          "base_uri": "https://localhost:8080/",
          "height": 545
        },
        "outputId": "f088bfe0-efd9-43f1-b1b9-10a6e2a0d439"
      },
      "source": [
        "plot_measures(history)"
      ],
      "execution_count": null,
      "outputs": [
        {
          "output_type": "display_data",
          "data": {
            "image/png": "[encoded data removed]",
            "text/plain": [
              "<Figure size 432x288 with 1 Axes>"
            ]
          },
          "metadata": {
            "tags": [],
            "needs_background": "light"
          }
        },
        {
          "output_type": "display_data",
          "data": {
            "image/png": "[encoded data removed]",
            "text/plain": [
              "<Figure size 432x288 with 1 Axes>"
            ]
          },
          "metadata": {
            "tags": [],
            "needs_background": "light"
          }
        }
      ]
    },
    {
      "cell_type": "markdown",
      "metadata": {
        "id": "9EGEymjEc8fO"
      },
      "source": [
        "**NOTE**: These two graphs illustrate some overfitting, now that we have increased model capacity. There is also a slight difference in the prevalence of variating increase-decrease peaks in validation accuracy/losses, thereby concluding that adding a few convolutional layers was benefitial to the model overall. Training accuracies and losses remain marginally the same."
      ]
    },
    {
      "cell_type": "markdown",
      "metadata": {
        "id": "IdKsO7KrdmTb"
      },
      "source": [
        "##Incorporating Dense Layers with RelU Activation"
      ]
    },
    {
      "cell_type": "code",
      "metadata": {
        "id": "xxKT9bnZdwN8",
        "colab": {
          "base_uri": "https://localhost:8080/"
        },
        "outputId": "8fe95118-4b0e-4c3a-9c4e-bd406e408834"
      },
      "source": [
        "model=keras.Sequential(\n",
        "  [\n",
        "      # First Convolutional Layer & Max Pooling Layer  \n",
        "      layers.Conv2D(32, (3, 3), activation='relu', padding=\"same\",input_shape=(150, 150, 3)),\n",
        "      layers.BatchNormalization(),\n",
        "      layers.MaxPooling2D((2, 2)),\n",
        "      # Second Convolutional Layer & Max Pooling Layer\n",
        "      layers.Conv2D(64, (3, 3), padding=\"same\", activation='relu'),\n",
        "      layers.BatchNormalization(),\n",
        "      layers.MaxPooling2D((2, 2)),\n",
        "      # Third Convolutional Layer & Max Pooling Layer\n",
        "      layers.Conv2D(128, (3, 3), padding=\"same\",activation='relu'),\n",
        "      layers.BatchNormalization(),\n",
        "      layers.MaxPooling2D((2, 2)),\n",
        "      # Fourth Convolutional Layer & Max Pooling Layer\n",
        "      layers.Conv2D(256, (3, 3), padding=\"same\",activation='relu'),\n",
        "      layers.BatchNormalization(),\n",
        "      layers.MaxPooling2D((2, 2)),\n",
        "      # Fifth Convolutional Layer & Max Pooling Layer\n",
        "      layers.Conv2D(256, (3, 3), padding=\"same\",activation='relu'),\n",
        "      layers.BatchNormalization(),\n",
        "      layers.MaxPooling2D((2, 2)),\n",
        "      #Global Average Pooling Layer\n",
        "      layers.GlobalAveragePooling2D(),\n",
        "      # Fully Connected Layer / Dense Layer\n",
        "      layers.Dense(128, activation='relu'),\n",
        "      # Initial Dropout\n",
        "      layers.Dropout(0.5),\n",
        "      # Second Fully Connected Layer / Dense Layer 2\n",
        "      layers.Dense(64, activation='relu'),\n",
        "      # Second Dropout\n",
        "      layers.Dropout(0.5),\n",
        "      # Sigmoid Activation in Dense Output Layer   \n",
        "      layers.Dense(6, activation= 'softmax')\n",
        "  ])\n",
        "\n",
        "#Model Compilation\n",
        "\n",
        "#Learning Rate Schedule\n",
        "lr_schedule = keras.optimizers.schedules.ExponentialDecay(\n",
        "  initial_learning_rate=1e-4,\n",
        "  decay_steps=1000,\n",
        "  decay_rate=0.9)\n",
        "\n",
        "#Compilation\n",
        "opt = tf.keras.optimizers.Adam(learning_rate=lr_schedule)\n",
        "model.compile(loss='sparse_categorical_crossentropy', metrics=['accuracy'], optimizer=opt)\n",
        "\n",
        "#Early Stopping Callback\n",
        "callback = tf.keras.callbacks.EarlyStopping(monitor='val_accuracy', patience=10, min_delta=1e-3, restore_best_weights=True)\n",
        "\n",
        "#Training Model\n",
        "history = model.fit(\n",
        "            train_generator,\n",
        "            validation_data = validation_generator,\n",
        "            steps_per_epoch = math.ceil(train_generator.samples/BATCH_SIZE) ,\n",
        "            epochs = 120,\n",
        "            validation_steps = math.ceil(validation_generator.samples/BATCH_SIZE),\n",
        "            callbacks=callback,\n",
        "            verbose = 1)"
      ],
      "execution_count": null,
      "outputs": [
        {
          "output_type": "stream",
          "text": [
            "Epoch 1/120\n",
            "225/225 [==============================] - 18s 78ms/step - loss: 1.4036 - accuracy: 0.4668 - val_loss: 1.9772 - val_accuracy: 0.1683\n",
            "Epoch 2/120\n",
            "225/225 [==============================] - 17s 77ms/step - loss: 1.0251 - accuracy: 0.6227 - val_loss: 1.3208 - val_accuracy: 0.4840\n",
            "Epoch 3/120\n",
            "225/225 [==============================] - 17s 77ms/step - loss: 0.8488 - accuracy: 0.6978 - val_loss: 0.6431 - val_accuracy: 0.7783\n",
            "Epoch 4/120\n",
            "225/225 [==============================] - 17s 77ms/step - loss: 0.7388 - accuracy: 0.7429 - val_loss: 0.8289 - val_accuracy: 0.7224\n",
            "Epoch 5/120\n",
            "225/225 [==============================] - 17s 77ms/step - loss: 0.6727 - accuracy: 0.7748 - val_loss: 0.5036 - val_accuracy: 0.8203\n",
            "Epoch 6/120\n",
            "225/225 [==============================] - 17s 77ms/step - loss: 0.6152 - accuracy: 0.7962 - val_loss: 0.4809 - val_accuracy: 0.8292\n",
            "Epoch 7/120\n",
            "225/225 [==============================] - 17s 77ms/step - loss: 0.5615 - accuracy: 0.8181 - val_loss: 0.4975 - val_accuracy: 0.8242\n",
            "Epoch 8/120\n",
            "225/225 [==============================] - 17s 77ms/step - loss: 0.5161 - accuracy: 0.8264 - val_loss: 0.4920 - val_accuracy: 0.8171\n",
            "Epoch 9/120\n",
            "225/225 [==============================] - 17s 77ms/step - loss: 0.4963 - accuracy: 0.8369 - val_loss: 0.4912 - val_accuracy: 0.8270\n",
            "Epoch 10/120\n",
            "225/225 [==============================] - 17s 77ms/step - loss: 0.4475 - accuracy: 0.8540 - val_loss: 0.4325 - val_accuracy: 0.8609\n",
            "Epoch 11/120\n",
            "225/225 [==============================] - 17s 77ms/step - loss: 0.4066 - accuracy: 0.8698 - val_loss: 0.4290 - val_accuracy: 0.8537\n",
            "Epoch 12/120\n",
            "225/225 [==============================] - 17s 77ms/step - loss: 0.3785 - accuracy: 0.8794 - val_loss: 0.4480 - val_accuracy: 0.8463\n",
            "Epoch 13/120\n",
            "225/225 [==============================] - 17s 77ms/step - loss: 0.3357 - accuracy: 0.8947 - val_loss: 0.4492 - val_accuracy: 0.8441\n",
            "Epoch 14/120\n",
            "225/225 [==============================] - 17s 77ms/step - loss: 0.3100 - accuracy: 0.9027 - val_loss: 0.4068 - val_accuracy: 0.8722\n",
            "Epoch 15/120\n",
            "225/225 [==============================] - 17s 78ms/step - loss: 0.2682 - accuracy: 0.9179 - val_loss: 0.4435 - val_accuracy: 0.8580\n",
            "Epoch 16/120\n",
            "225/225 [==============================] - 17s 77ms/step - loss: 0.2469 - accuracy: 0.9229 - val_loss: 0.4732 - val_accuracy: 0.8445\n",
            "Epoch 17/120\n",
            "225/225 [==============================] - 17s 77ms/step - loss: 0.2129 - accuracy: 0.9371 - val_loss: 0.4099 - val_accuracy: 0.8762\n",
            "Epoch 18/120\n",
            "225/225 [==============================] - 17s 77ms/step - loss: 0.1892 - accuracy: 0.9374 - val_loss: 0.4355 - val_accuracy: 0.8630\n",
            "Epoch 19/120\n",
            "225/225 [==============================] - 17s 77ms/step - loss: 0.1618 - accuracy: 0.9507 - val_loss: 0.4908 - val_accuracy: 0.8591\n",
            "Epoch 20/120\n",
            "225/225 [==============================] - 17s 78ms/step - loss: 0.1464 - accuracy: 0.9563 - val_loss: 0.7202 - val_accuracy: 0.8203\n",
            "Epoch 21/120\n",
            "225/225 [==============================] - 18s 78ms/step - loss: 0.1378 - accuracy: 0.9602 - val_loss: 0.5627 - val_accuracy: 0.8459\n",
            "Epoch 22/120\n",
            "225/225 [==============================] - 18s 78ms/step - loss: 0.1129 - accuracy: 0.9695 - val_loss: 0.5411 - val_accuracy: 0.8544\n",
            "Epoch 23/120\n",
            "225/225 [==============================] - 18s 78ms/step - loss: 0.1069 - accuracy: 0.9698 - val_loss: 0.4760 - val_accuracy: 0.8633\n",
            "Epoch 24/120\n",
            "225/225 [==============================] - 17s 78ms/step - loss: 0.0928 - accuracy: 0.9743 - val_loss: 0.5092 - val_accuracy: 0.8669\n",
            "Epoch 25/120\n",
            "225/225 [==============================] - 17s 78ms/step - loss: 0.0813 - accuracy: 0.9766 - val_loss: 0.5015 - val_accuracy: 0.8705\n",
            "Epoch 26/120\n",
            "225/225 [==============================] - 17s 77ms/step - loss: 0.0710 - accuracy: 0.9808 - val_loss: 0.5532 - val_accuracy: 0.8676\n",
            "Epoch 27/120\n",
            "225/225 [==============================] - 17s 77ms/step - loss: 0.0644 - accuracy: 0.9808 - val_loss: 0.5526 - val_accuracy: 0.8658\n"
          ],
          "name": "stdout"
        }
      ]
    },
    {
      "cell_type": "markdown",
      "metadata": {
        "id": "2VVWeb3cjYc1"
      },
      "source": [
        "####Learning Curves"
      ]
    },
    {
      "cell_type": "code",
      "metadata": {
        "id": "166SB71qjaEn",
        "colab": {
          "base_uri": "https://localhost:8080/",
          "height": 545
        },
        "outputId": "b75311df-5d65-4ecd-ec8f-6d8704eb9a6b"
      },
      "source": [
        "plot_measures(history)"
      ],
      "execution_count": null,
      "outputs": [
        {
          "output_type": "display_data",
          "data": {
            "image/png": "[encoded data removed]",
            "text/plain": [
              "<Figure size 432x288 with 1 Axes>"
            ]
          },
          "metadata": {
            "tags": [],
            "needs_background": "light"
          }
        },
        {
          "output_type": "display_data",
          "data": {
            "image/png": "[encoded data removed]",
            "text/plain": [
              "<Figure size 432x288 with 1 Axes>"
            ]
          },
          "metadata": {
            "tags": [],
            "needs_background": "light"
          }
        }
      ]
    },
    {
      "cell_type": "markdown",
      "metadata": {
        "id": "SbTrb3JKjcAa"
      },
      "source": [
        "**NOTE**: The addition of dense layers preceding the output layer aided regularization within the network and reversed overfitting. In comparison to our previous learning curve plots, we see here that the validation accuracy is far lower than training accuracy."
      ]
    },
    {
      "cell_type": "markdown",
      "metadata": {
        "id": "LIg_MIQ3kmY9"
      },
      "source": [
        "#Introducing Data Augmentation"
      ]
    },
    {
      "cell_type": "code",
      "metadata": {
        "id": "M-xTmZ4_kpHe",
        "colab": {
          "base_uri": "https://localhost:8080/"
        },
        "outputId": "e6071299-7915-4479-daab-e82a71cc9cbb"
      },
      "source": [
        "# Using Transformation Metrics to Initialize imageDataGenerator once again\n",
        "\n",
        "train_datagen = ImageDataGenerator(\n",
        "rescale=1./255,\n",
        "rotation_range=40,\n",
        "width_shift_range=0.2,\n",
        "height_shift_range=0.2,\n",
        "shear_range=0.2,\n",
        "zoom_range=0.2,\n",
        "horizontal_flip=True)\n",
        "\n",
        "train_generator = train_datagen.flow_from_directory(\n",
        "#Fetching training data from directory\n",
        "train_dir,\n",
        "#Resizing images to size 150*150\n",
        "target_size=(150, 150),\n",
        "#Size of minibatch \n",
        "batch_size=20,\n",
        "class_mode='sparse')"
      ],
      "execution_count": null,
      "outputs": [
        {
          "output_type": "stream",
          "text": [
            "Found 11224 images belonging to 6 classes.\n"
          ],
          "name": "stdout"
        }
      ]
    },
    {
      "cell_type": "markdown",
      "metadata": {
        "id": "ag9keGnqlM5D"
      },
      "source": [
        "##Augmented Data Model Training"
      ]
    },
    {
      "cell_type": "code",
      "metadata": {
        "id": "vnKyf_EilSpt",
        "colab": {
          "base_uri": "https://localhost:8080/"
        },
        "outputId": "ac179a59-8739-4978-9fce-06284779f22c"
      },
      "source": [
        "model=keras.Sequential(\n",
        "  [\n",
        "      # First Convolutional Layer & Max Pooling Layer \n",
        "      layers.Conv2D(32, (3, 3), activation='relu', padding=\"same\",input_shape=(150, 150, 3)),\n",
        "      layers.BatchNormalization(),\n",
        "      layers.MaxPooling2D((2, 2)),\n",
        "      # Second Convolutional Layer & Max Pooling Layer\n",
        "      layers.Conv2D(64, (3, 3), padding=\"same\", activation='relu'),\n",
        "      layers.BatchNormalization(),\n",
        "      layers.MaxPooling2D((2, 2)),\n",
        "      # Third Convolutional Layer & Max Pooling Layer\n",
        "      layers.Conv2D(128, (3, 3), padding=\"same\",activation='relu'),\n",
        "      layers.BatchNormalization(),\n",
        "      layers.MaxPooling2D((2, 2)),\n",
        "      # Fourth Convolutional Layer & Max Pooling Layer\n",
        "      layers.Conv2D(256, (3, 3), padding=\"same\",activation='relu'),\n",
        "      layers.BatchNormalization(),\n",
        "      layers.MaxPooling2D((2, 2)),\n",
        "      # Fifth Convolutional Layer & Max Pooling Layer\n",
        "      layers.Conv2D(256, (3, 3), padding=\"same\",activation='relu'),\n",
        "      layers.BatchNormalization(),\n",
        "      layers.MaxPooling2D((2, 2)),\n",
        "      #Global Average Pooling Layer\n",
        "      layers.GlobalAveragePooling2D(),\n",
        "      # First Fully Connected Layer/Dense Layer\n",
        "      layers.Dense(128, activation='relu'),\n",
        "      # Initial Dropout\n",
        "      layers.Dropout(0.5),\n",
        "      # Second Fully Connected Layer/Dense Layer\n",
        "      layers.Dense(64, activation='relu'),\n",
        "      # Second Dropout\n",
        "      layers.Dropout(0.5),\n",
        "      # Sigmoid Activation in Dense Output Layer  \n",
        "      layers.Dense(6, activation= 'softmax')\n",
        "  ])\n",
        "\n",
        "#Compilation\n",
        "\n",
        "#Learning Rate Schedule\n",
        "lr_schedule = keras.optimizers.schedules.ExponentialDecay(\n",
        "  initial_learning_rate=1e-4,\n",
        "  decay_steps=1000,\n",
        "  decay_rate=0.9)\n",
        "\n",
        "#Configuration\n",
        "opt = tf.keras.optimizers.Adam(learning_rate=lr_schedule)\n",
        "model.compile(loss='sparse_categorical_crossentropy', metrics=['accuracy'], optimizer=opt)\n",
        "\n",
        "#Early Stopping Callback\n",
        "callback = tf.keras.callbacks.EarlyStopping(monitor='val_accuracy', patience=10, min_delta=1e-3, restore_best_weights=True)\n",
        "\n",
        "#Training\n",
        "history = model.fit(\n",
        "            train_generator,\n",
        "            validation_data = validation_generator,\n",
        "            steps_per_epoch = math.ceil(train_generator.samples/BATCH_SIZE) ,\n",
        "            epochs = 120,\n",
        "            validation_steps = math.ceil(validation_generator.samples/BATCH_SIZE),\n",
        "            callbacks=callback,\n",
        "            verbose = 1)"
      ],
      "execution_count": null,
      "outputs": [
        {
          "output_type": "stream",
          "text": [
            "Epoch 1/120\n",
            "225/225 [==============================] - 30s 135ms/step - loss: 1.6359 - accuracy: 0.3676 - val_loss: 2.0351 - val_accuracy: 0.1712\n",
            "Epoch 2/120\n",
            "225/225 [==============================] - 31s 136ms/step - loss: 1.3549 - accuracy: 0.4736 - val_loss: 1.4434 - val_accuracy: 0.4260\n",
            "Epoch 3/120\n",
            "225/225 [==============================] - 30s 135ms/step - loss: 1.2766 - accuracy: 0.5123 - val_loss: 1.0604 - val_accuracy: 0.6021\n",
            "Epoch 4/120\n",
            "225/225 [==============================] - 30s 135ms/step - loss: 1.2122 - accuracy: 0.5292 - val_loss: 0.9932 - val_accuracy: 0.6199\n",
            "Epoch 5/120\n",
            "225/225 [==============================] - 31s 136ms/step - loss: 1.1572 - accuracy: 0.5593 - val_loss: 1.0097 - val_accuracy: 0.6253\n",
            "Epoch 6/120\n",
            "225/225 [==============================] - 30s 135ms/step - loss: 1.0703 - accuracy: 0.5977 - val_loss: 0.9027 - val_accuracy: 0.6868\n",
            "Epoch 7/120\n",
            "225/225 [==============================] - 30s 135ms/step - loss: 1.0834 - accuracy: 0.5979 - val_loss: 0.8581 - val_accuracy: 0.6890\n",
            "Epoch 8/120\n",
            "225/225 [==============================] - 30s 134ms/step - loss: 1.0165 - accuracy: 0.6291 - val_loss: 0.8219 - val_accuracy: 0.6819\n",
            "Epoch 9/120\n",
            "225/225 [==============================] - 31s 137ms/step - loss: 0.9854 - accuracy: 0.6363 - val_loss: 0.8844 - val_accuracy: 0.6740\n",
            "Epoch 10/120\n",
            "225/225 [==============================] - 31s 138ms/step - loss: 0.9867 - accuracy: 0.6425 - val_loss: 0.8537 - val_accuracy: 0.6915\n",
            "Epoch 11/120\n",
            "225/225 [==============================] - 30s 135ms/step - loss: 0.9677 - accuracy: 0.6522 - val_loss: 0.6721 - val_accuracy: 0.7569\n",
            "Epoch 12/120\n",
            "225/225 [==============================] - 30s 135ms/step - loss: 0.9225 - accuracy: 0.6676 - val_loss: 0.6816 - val_accuracy: 0.7566\n",
            "Epoch 13/120\n",
            "225/225 [==============================] - 30s 135ms/step - loss: 0.9120 - accuracy: 0.6753 - val_loss: 0.7515 - val_accuracy: 0.7285\n",
            "Epoch 14/120\n",
            "225/225 [==============================] - 30s 134ms/step - loss: 0.9084 - accuracy: 0.6864 - val_loss: 0.6919 - val_accuracy: 0.7523\n",
            "Epoch 15/120\n",
            "225/225 [==============================] - 30s 134ms/step - loss: 0.8617 - accuracy: 0.6958 - val_loss: 0.9453 - val_accuracy: 0.6940\n",
            "Epoch 16/120\n",
            "225/225 [==============================] - 30s 134ms/step - loss: 0.8473 - accuracy: 0.6927 - val_loss: 0.6449 - val_accuracy: 0.7445\n",
            "Epoch 17/120\n",
            "225/225 [==============================] - 30s 134ms/step - loss: 0.8403 - accuracy: 0.6987 - val_loss: 0.6375 - val_accuracy: 0.7655\n",
            "Epoch 18/120\n",
            "225/225 [==============================] - 30s 135ms/step - loss: 0.8163 - accuracy: 0.7178 - val_loss: 0.6042 - val_accuracy: 0.7840\n",
            "Epoch 19/120\n",
            "225/225 [==============================] - 30s 135ms/step - loss: 0.8037 - accuracy: 0.7235 - val_loss: 0.8170 - val_accuracy: 0.7206\n",
            "Epoch 20/120\n",
            "225/225 [==============================] - 30s 134ms/step - loss: 0.7942 - accuracy: 0.7322 - val_loss: 0.6829 - val_accuracy: 0.7463\n",
            "Epoch 21/120\n",
            "225/225 [==============================] - 30s 134ms/step - loss: 0.7730 - accuracy: 0.7320 - val_loss: 0.6394 - val_accuracy: 0.7637\n",
            "Epoch 22/120\n",
            "225/225 [==============================] - 30s 134ms/step - loss: 0.7571 - accuracy: 0.7402 - val_loss: 0.5807 - val_accuracy: 0.7794\n",
            "Epoch 23/120\n",
            "225/225 [==============================] - 30s 134ms/step - loss: 0.7402 - accuracy: 0.7511 - val_loss: 0.6522 - val_accuracy: 0.7669\n",
            "Epoch 24/120\n",
            "225/225 [==============================] - 30s 134ms/step - loss: 0.7447 - accuracy: 0.7464 - val_loss: 0.5635 - val_accuracy: 0.7897\n",
            "Epoch 25/120\n",
            "225/225 [==============================] - 30s 135ms/step - loss: 0.7300 - accuracy: 0.7589 - val_loss: 0.5490 - val_accuracy: 0.8078\n",
            "Epoch 26/120\n",
            "225/225 [==============================] - 31s 136ms/step - loss: 0.7432 - accuracy: 0.7511 - val_loss: 0.5830 - val_accuracy: 0.7851\n",
            "Epoch 27/120\n",
            "225/225 [==============================] - 30s 134ms/step - loss: 0.7113 - accuracy: 0.7596 - val_loss: 0.6524 - val_accuracy: 0.7726\n",
            "Epoch 28/120\n",
            "225/225 [==============================] - 30s 134ms/step - loss: 0.6859 - accuracy: 0.7678 - val_loss: 0.5600 - val_accuracy: 0.7972\n",
            "Epoch 29/120\n",
            "225/225 [==============================] - 30s 135ms/step - loss: 0.7004 - accuracy: 0.7656 - val_loss: 0.5929 - val_accuracy: 0.7797\n",
            "Epoch 30/120\n",
            "225/225 [==============================] - 30s 134ms/step - loss: 0.6852 - accuracy: 0.7731 - val_loss: 0.5611 - val_accuracy: 0.8071\n",
            "Epoch 31/120\n",
            "225/225 [==============================] - 30s 135ms/step - loss: 0.6904 - accuracy: 0.7627 - val_loss: 0.4824 - val_accuracy: 0.8203\n",
            "Epoch 32/120\n",
            "225/225 [==============================] - 30s 134ms/step - loss: 0.6679 - accuracy: 0.7707 - val_loss: 0.4747 - val_accuracy: 0.8238\n",
            "Epoch 33/120\n",
            "225/225 [==============================] - 30s 134ms/step - loss: 0.6469 - accuracy: 0.7857 - val_loss: 0.5403 - val_accuracy: 0.8014\n",
            "Epoch 34/120\n",
            "225/225 [==============================] - 30s 135ms/step - loss: 0.6487 - accuracy: 0.7819 - val_loss: 0.5771 - val_accuracy: 0.7875\n",
            "Epoch 35/120\n",
            "225/225 [==============================] - 30s 134ms/step - loss: 0.6507 - accuracy: 0.7741 - val_loss: 0.7165 - val_accuracy: 0.7569\n",
            "Epoch 36/120\n",
            "225/225 [==============================] - 30s 135ms/step - loss: 0.6370 - accuracy: 0.7922 - val_loss: 0.4832 - val_accuracy: 0.8231\n",
            "Epoch 37/120\n",
            "225/225 [==============================] - 30s 134ms/step - loss: 0.6415 - accuracy: 0.7859 - val_loss: 0.5182 - val_accuracy: 0.8157\n",
            "Epoch 38/120\n",
            "225/225 [==============================] - 30s 134ms/step - loss: 0.6319 - accuracy: 0.7884 - val_loss: 0.4585 - val_accuracy: 0.8399\n",
            "Epoch 39/120\n",
            "225/225 [==============================] - 30s 135ms/step - loss: 0.6157 - accuracy: 0.7924 - val_loss: 0.5729 - val_accuracy: 0.7989\n",
            "Epoch 40/120\n",
            "225/225 [==============================] - 30s 133ms/step - loss: 0.6545 - accuracy: 0.7864 - val_loss: 0.5370 - val_accuracy: 0.8085\n",
            "Epoch 41/120\n",
            "225/225 [==============================] - 30s 134ms/step - loss: 0.6172 - accuracy: 0.7982 - val_loss: 0.4744 - val_accuracy: 0.8345\n",
            "Epoch 42/120\n",
            "225/225 [==============================] - 30s 134ms/step - loss: 0.6237 - accuracy: 0.7920 - val_loss: 0.4866 - val_accuracy: 0.8238\n",
            "Epoch 43/120\n",
            "225/225 [==============================] - 30s 134ms/step - loss: 0.5962 - accuracy: 0.8011 - val_loss: 0.5604 - val_accuracy: 0.8082\n",
            "Epoch 44/120\n",
            "225/225 [==============================] - 30s 134ms/step - loss: 0.5936 - accuracy: 0.8047 - val_loss: 0.5335 - val_accuracy: 0.8153\n",
            "Epoch 45/120\n",
            "225/225 [==============================] - 31s 136ms/step - loss: 0.5905 - accuracy: 0.8004 - val_loss: 0.4774 - val_accuracy: 0.8267\n",
            "Epoch 46/120\n",
            "225/225 [==============================] - 31s 138ms/step - loss: 0.5902 - accuracy: 0.8024 - val_loss: 0.4954 - val_accuracy: 0.8199\n",
            "Epoch 47/120\n",
            "225/225 [==============================] - 31s 137ms/step - loss: 0.5741 - accuracy: 0.8124 - val_loss: 0.4309 - val_accuracy: 0.8448\n",
            "Epoch 48/120\n",
            "225/225 [==============================] - 31s 137ms/step - loss: 0.5565 - accuracy: 0.8093 - val_loss: 0.4830 - val_accuracy: 0.8203\n",
            "Epoch 49/120\n",
            "225/225 [==============================] - 31s 136ms/step - loss: 0.5729 - accuracy: 0.8113 - val_loss: 0.4691 - val_accuracy: 0.8288\n",
            "Epoch 50/120\n",
            "225/225 [==============================] - 31s 136ms/step - loss: 0.5797 - accuracy: 0.8044 - val_loss: 0.5920 - val_accuracy: 0.7904\n",
            "Epoch 51/120\n",
            "225/225 [==============================] - 31s 137ms/step - loss: 0.5471 - accuracy: 0.8189 - val_loss: 0.4387 - val_accuracy: 0.8409\n",
            "Epoch 52/120\n",
            "225/225 [==============================] - 31s 138ms/step - loss: 0.5566 - accuracy: 0.8204 - val_loss: 0.6011 - val_accuracy: 0.7989\n",
            "Epoch 53/120\n",
            "225/225 [==============================] - 31s 138ms/step - loss: 0.5677 - accuracy: 0.8073 - val_loss: 0.4570 - val_accuracy: 0.8238\n",
            "Epoch 54/120\n",
            "225/225 [==============================] - 31s 138ms/step - loss: 0.5450 - accuracy: 0.8256 - val_loss: 0.4658 - val_accuracy: 0.8299\n",
            "Epoch 55/120\n",
            "225/225 [==============================] - 31s 138ms/step - loss: 0.5738 - accuracy: 0.8047 - val_loss: 0.4360 - val_accuracy: 0.8427\n",
            "Epoch 56/120\n",
            "225/225 [==============================] - 31s 138ms/step - loss: 0.5533 - accuracy: 0.8120 - val_loss: 0.4428 - val_accuracy: 0.8406\n",
            "Epoch 57/120\n",
            "225/225 [==============================] - 31s 138ms/step - loss: 0.5527 - accuracy: 0.8124 - val_loss: 0.4956 - val_accuracy: 0.8238\n"
          ],
          "name": "stdout"
        }
      ]
    },
    {
      "cell_type": "markdown",
      "metadata": {
        "id": "ZFr7NbT_s1_g"
      },
      "source": [
        "#### Learning Curves"
      ]
    },
    {
      "cell_type": "code",
      "metadata": {
        "id": "7oKsj39zs41k",
        "colab": {
          "base_uri": "https://localhost:8080/",
          "height": 545
        },
        "outputId": "f25cd0b4-93b0-43ac-b310-3d186a031351"
      },
      "source": [
        "plot_measures(history)"
      ],
      "execution_count": null,
      "outputs": [
        {
          "output_type": "display_data",
          "data": {
            "image/png": "[encoded data removed]",
            "text/plain": [
              "<Figure size 432x288 with 1 Axes>"
            ]
          },
          "metadata": {
            "tags": [],
            "needs_background": "light"
          }
        },
        {
          "output_type": "display_data",
          "data": {
            "image/png": "[encoded data removed]",
            "text/plain": [
              "<Figure size 432x288 with 1 Axes>"
            ]
          },
          "metadata": {
            "tags": [],
            "needs_background": "light"
          }
        }
      ]
    },
    {
      "cell_type": "markdown",
      "metadata": {
        "id": "sW94-rYstCUf"
      },
      "source": [
        "**NOTE**: It is apparent that there is no prevalence of overfitting in the model. Validation accuracy, despite it's sharp upward and downward peaks is projected to be better than the Training accuracy. The accuracy in our previous plots meandered at around a value of 85%, but we see here that it has come down to around 82% or so. "
      ]
    },
    {
      "cell_type": "markdown",
      "metadata": {
        "id": "ZLadUXqDtsfU"
      },
      "source": [
        "#Transfer Learning"
      ]
    },
    {
      "cell_type": "markdown",
      "metadata": {
        "id": "05R7GGBEtzhk"
      },
      "source": [
        "Extracting features"
      ]
    },
    {
      "cell_type": "code",
      "metadata": {
        "id": "yw4ff0OdtupM",
        "colab": {
          "base_uri": "https://localhost:8080/"
        },
        "outputId": "0c9756a6-03f8-4ebc-c2c6-b20bdfba72c1"
      },
      "source": [
        "#Importing the Trained Model\n",
        "\n",
        "#Using a DenseNet121 model trained on ImageNet dataset\n",
        "from tensorflow.keras.applications import DenseNet121\n",
        "conv_base = DenseNet121(weights='imagenet', include_top=False, input_shape=(150, 150, 3))\n",
        "\n",
        "#Freezing convolutional base weight\n",
        "conv_base.trainable=False"
      ],
      "execution_count": null,
      "outputs": [
        {
          "output_type": "stream",
          "text": [
            "Downloading data from https://storage.googleapis.com/tensorflow/keras-applications/densenet/densenet121_weights_tf_dim_ordering_tf_kernels_notop.h5\n",
            "29089792/29084464 [==============================] - 1s 0us/step\n"
          ],
          "name": "stdout"
        }
      ]
    },
    {
      "cell_type": "code",
      "metadata": {
        "id": "4xqeqeCruK9n"
      },
      "source": [
        "#Adding a Fully Connected/Dense Layer at the beginning\n",
        "#Over the convolutional base (densenet) outpupt, set a topclassifier.\n",
        "topClassifier = conv_base.output\n",
        "\n",
        "#On top of the convolutional base, set a Global Average Pooling layer.\n",
        "topClassifier=layers.GlobalAveragePooling2D()(topClassifier)\n",
        "\n",
        "#For classification purposes, place and incorporate a dense layer preceding the Global Average Pooling layer.\n",
        "topClassifier = layers.Dense(6, activation=\"softmax\")(topClassifier)\n",
        "\n",
        "model = Model(inputs=conv_base.input, outputs=topClassifier)"
      ],
      "execution_count": null,
      "outputs": []
    },
    {
      "cell_type": "code",
      "metadata": {
        "id": "RGaF67NquT9L",
        "colab": {
          "base_uri": "https://localhost:8080/"
        },
        "outputId": "c7248418-0537-419f-b97e-6b97c201b3e1"
      },
      "source": [
        "#Training\n",
        "\n",
        "#Learning Rate Scheduling\n",
        "lr_schedule = keras.optimizers.schedules.ExponentialDecay(\n",
        "    initial_learning_rate=1e-4,\n",
        "    decay_steps=1000,\n",
        "    decay_rate=0.9)\n",
        "\n",
        "#Compilation of Model\n",
        "opt = tf.keras.optimizers.Adam(learning_rate=lr_schedule)\n",
        "model.compile(loss=\"sparse_categorical_crossentropy\", metrics=['accuracy'], optimizer=opt)\n",
        "\n",
        "#Early Stopping Callback\n",
        "callback = tf.keras.callbacks.EarlyStopping(monitor='val_accuracy', patience=10, min_delta=1e-3, restore_best_weights=True)\n",
        "\n",
        "#Training\n",
        "history = model.fit(\n",
        "            train_generator,\n",
        "            validation_data = validation_generator,\n",
        "            steps_per_epoch = math.ceil(train_generator.samples/BATCH_SIZE) ,\n",
        "            epochs = 120,\n",
        "            validation_steps = math.ceil(validation_generator.samples/BATCH_SIZE),\n",
        "            callbacks=callback,\n",
        "            verbose = 1)"
      ],
      "execution_count": null,
      "outputs": [
        {
          "output_type": "stream",
          "text": [
            "Epoch 1/120\n",
            "225/225 [==============================] - 35s 154ms/step - loss: 1.9630 - accuracy: 0.2371 - val_loss: 1.3369 - val_accuracy: 0.4737\n",
            "Epoch 2/120\n",
            "225/225 [==============================] - 32s 144ms/step - loss: 1.1887 - accuracy: 0.5533 - val_loss: 0.9081 - val_accuracy: 0.6694\n",
            "Epoch 3/120\n",
            "225/225 [==============================] - 32s 144ms/step - loss: 0.8983 - accuracy: 0.6677 - val_loss: 0.7101 - val_accuracy: 0.7505\n",
            "Epoch 4/120\n",
            "225/225 [==============================] - 32s 144ms/step - loss: 0.7581 - accuracy: 0.7252 - val_loss: 0.6061 - val_accuracy: 0.7907\n",
            "Epoch 5/120\n",
            "225/225 [==============================] - 32s 144ms/step - loss: 0.6675 - accuracy: 0.7573 - val_loss: 0.5329 - val_accuracy: 0.8132\n",
            "Epoch 6/120\n",
            "225/225 [==============================] - 32s 143ms/step - loss: 0.6152 - accuracy: 0.7794 - val_loss: 0.4935 - val_accuracy: 0.8281\n",
            "Epoch 7/120\n",
            "225/225 [==============================] - 32s 143ms/step - loss: 0.5920 - accuracy: 0.7846 - val_loss: 0.4657 - val_accuracy: 0.8345\n",
            "Epoch 8/120\n",
            "225/225 [==============================] - 32s 144ms/step - loss: 0.5571 - accuracy: 0.7982 - val_loss: 0.4379 - val_accuracy: 0.8423\n",
            "Epoch 9/120\n",
            "225/225 [==============================] - 32s 144ms/step - loss: 0.5309 - accuracy: 0.8158 - val_loss: 0.4249 - val_accuracy: 0.8470\n",
            "Epoch 10/120\n",
            "225/225 [==============================] - 32s 144ms/step - loss: 0.5223 - accuracy: 0.8076 - val_loss: 0.4020 - val_accuracy: 0.8594\n",
            "Epoch 11/120\n",
            "225/225 [==============================] - 32s 144ms/step - loss: 0.5192 - accuracy: 0.8111 - val_loss: 0.3865 - val_accuracy: 0.8648\n",
            "Epoch 12/120\n",
            "225/225 [==============================] - 32s 143ms/step - loss: 0.4897 - accuracy: 0.8211 - val_loss: 0.3868 - val_accuracy: 0.8612\n",
            "Epoch 13/120\n",
            "225/225 [==============================] - 32s 144ms/step - loss: 0.4815 - accuracy: 0.8276 - val_loss: 0.3684 - val_accuracy: 0.8687\n",
            "Epoch 14/120\n",
            "225/225 [==============================] - 32s 144ms/step - loss: 0.4764 - accuracy: 0.8283 - val_loss: 0.3642 - val_accuracy: 0.8694\n",
            "Epoch 15/120\n",
            "225/225 [==============================] - 32s 144ms/step - loss: 0.4706 - accuracy: 0.8309 - val_loss: 0.3543 - val_accuracy: 0.8747\n",
            "Epoch 16/120\n",
            "225/225 [==============================] - 32s 144ms/step - loss: 0.4607 - accuracy: 0.8251 - val_loss: 0.3445 - val_accuracy: 0.8776\n",
            "Epoch 17/120\n",
            "225/225 [==============================] - 32s 143ms/step - loss: 0.4474 - accuracy: 0.8400 - val_loss: 0.3398 - val_accuracy: 0.8797\n",
            "Epoch 18/120\n",
            "225/225 [==============================] - 32s 143ms/step - loss: 0.4416 - accuracy: 0.8384 - val_loss: 0.3408 - val_accuracy: 0.8772\n",
            "Epoch 19/120\n",
            "225/225 [==============================] - 32s 143ms/step - loss: 0.4545 - accuracy: 0.8347 - val_loss: 0.3328 - val_accuracy: 0.8822\n",
            "Epoch 20/120\n",
            "225/225 [==============================] - 32s 143ms/step - loss: 0.4529 - accuracy: 0.8305 - val_loss: 0.3276 - val_accuracy: 0.8826\n",
            "Epoch 21/120\n",
            "225/225 [==============================] - 32s 143ms/step - loss: 0.4385 - accuracy: 0.8492 - val_loss: 0.3264 - val_accuracy: 0.8826\n",
            "Epoch 22/120\n",
            "225/225 [==============================] - 32s 143ms/step - loss: 0.4159 - accuracy: 0.8471 - val_loss: 0.3228 - val_accuracy: 0.8840\n",
            "Epoch 23/120\n",
            "225/225 [==============================] - 32s 144ms/step - loss: 0.4343 - accuracy: 0.8347 - val_loss: 0.3172 - val_accuracy: 0.8875\n",
            "Epoch 24/120\n",
            "225/225 [==============================] - 32s 144ms/step - loss: 0.4490 - accuracy: 0.8376 - val_loss: 0.3162 - val_accuracy: 0.8883\n",
            "Epoch 25/120\n",
            "225/225 [==============================] - 32s 142ms/step - loss: 0.4239 - accuracy: 0.8482 - val_loss: 0.3131 - val_accuracy: 0.8875\n",
            "Epoch 26/120\n",
            "225/225 [==============================] - 32s 143ms/step - loss: 0.4374 - accuracy: 0.8305 - val_loss: 0.3098 - val_accuracy: 0.8911\n",
            "Epoch 27/120\n",
            "225/225 [==============================] - 32s 142ms/step - loss: 0.4050 - accuracy: 0.8548 - val_loss: 0.3100 - val_accuracy: 0.8897\n",
            "Epoch 28/120\n",
            "225/225 [==============================] - 32s 143ms/step - loss: 0.4287 - accuracy: 0.8478 - val_loss: 0.3076 - val_accuracy: 0.8911\n",
            "Epoch 29/120\n",
            "225/225 [==============================] - 32s 143ms/step - loss: 0.4187 - accuracy: 0.8431 - val_loss: 0.3054 - val_accuracy: 0.8900\n",
            "Epoch 30/120\n",
            "225/225 [==============================] - 32s 143ms/step - loss: 0.4103 - accuracy: 0.8557 - val_loss: 0.3028 - val_accuracy: 0.8929\n",
            "Epoch 31/120\n",
            "225/225 [==============================] - 32s 142ms/step - loss: 0.4246 - accuracy: 0.8473 - val_loss: 0.3030 - val_accuracy: 0.8932\n",
            "Epoch 32/120\n",
            "225/225 [==============================] - 32s 143ms/step - loss: 0.4078 - accuracy: 0.8567 - val_loss: 0.2989 - val_accuracy: 0.8929\n",
            "Epoch 33/120\n",
            "225/225 [==============================] - 32s 144ms/step - loss: 0.4027 - accuracy: 0.8544 - val_loss: 0.2981 - val_accuracy: 0.8940\n",
            "Epoch 34/120\n",
            "225/225 [==============================] - 32s 143ms/step - loss: 0.4198 - accuracy: 0.8409 - val_loss: 0.2960 - val_accuracy: 0.8932\n",
            "Epoch 35/120\n",
            "225/225 [==============================] - 32s 143ms/step - loss: 0.4099 - accuracy: 0.8491 - val_loss: 0.2968 - val_accuracy: 0.8915\n",
            "Epoch 36/120\n",
            "225/225 [==============================] - 32s 143ms/step - loss: 0.4063 - accuracy: 0.8493 - val_loss: 0.2940 - val_accuracy: 0.8936\n",
            "Epoch 37/120\n",
            "225/225 [==============================] - 32s 143ms/step - loss: 0.4204 - accuracy: 0.8510 - val_loss: 0.2926 - val_accuracy: 0.8950\n",
            "Epoch 38/120\n",
            "225/225 [==============================] - 32s 143ms/step - loss: 0.4087 - accuracy: 0.8504 - val_loss: 0.2917 - val_accuracy: 0.8943\n",
            "Epoch 39/120\n",
            "225/225 [==============================] - 32s 143ms/step - loss: 0.3957 - accuracy: 0.8536 - val_loss: 0.2905 - val_accuracy: 0.8957\n",
            "Epoch 40/120\n",
            "225/225 [==============================] - 32s 143ms/step - loss: 0.3797 - accuracy: 0.8660 - val_loss: 0.2879 - val_accuracy: 0.8954\n",
            "Epoch 41/120\n",
            "225/225 [==============================] - 32s 143ms/step - loss: 0.4029 - accuracy: 0.8555 - val_loss: 0.2884 - val_accuracy: 0.8957\n",
            "Epoch 42/120\n",
            "225/225 [==============================] - 32s 143ms/step - loss: 0.4219 - accuracy: 0.8486 - val_loss: 0.2891 - val_accuracy: 0.8968\n",
            "Epoch 43/120\n",
            "225/225 [==============================] - 32s 143ms/step - loss: 0.3880 - accuracy: 0.8582 - val_loss: 0.2866 - val_accuracy: 0.8972\n",
            "Epoch 44/120\n",
            "225/225 [==============================] - 32s 143ms/step - loss: 0.3875 - accuracy: 0.8638 - val_loss: 0.2856 - val_accuracy: 0.8975\n",
            "Epoch 45/120\n",
            "225/225 [==============================] - 32s 142ms/step - loss: 0.3812 - accuracy: 0.8626 - val_loss: 0.2839 - val_accuracy: 0.8975\n",
            "Epoch 46/120\n",
            "225/225 [==============================] - 32s 143ms/step - loss: 0.3984 - accuracy: 0.8553 - val_loss: 0.2843 - val_accuracy: 0.8975\n",
            "Epoch 47/120\n",
            "225/225 [==============================] - 32s 143ms/step - loss: 0.4066 - accuracy: 0.8496 - val_loss: 0.2828 - val_accuracy: 0.8972\n",
            "Epoch 48/120\n",
            "225/225 [==============================] - 32s 143ms/step - loss: 0.3999 - accuracy: 0.8596 - val_loss: 0.2837 - val_accuracy: 0.8975\n",
            "Epoch 49/120\n",
            "225/225 [==============================] - 32s 143ms/step - loss: 0.3823 - accuracy: 0.8600 - val_loss: 0.2811 - val_accuracy: 0.8975\n",
            "Epoch 50/120\n",
            "225/225 [==============================] - 32s 143ms/step - loss: 0.4014 - accuracy: 0.8516 - val_loss: 0.2826 - val_accuracy: 0.8972\n",
            "Epoch 51/120\n",
            "225/225 [==============================] - 32s 143ms/step - loss: 0.3926 - accuracy: 0.8539 - val_loss: 0.2807 - val_accuracy: 0.8979\n",
            "Epoch 52/120\n",
            "225/225 [==============================] - 32s 143ms/step - loss: 0.3853 - accuracy: 0.8644 - val_loss: 0.2794 - val_accuracy: 0.8986\n",
            "Epoch 53/120\n",
            "225/225 [==============================] - 32s 144ms/step - loss: 0.3889 - accuracy: 0.8596 - val_loss: 0.2775 - val_accuracy: 0.8993\n",
            "Epoch 54/120\n",
            "225/225 [==============================] - 32s 143ms/step - loss: 0.3918 - accuracy: 0.8604 - val_loss: 0.2772 - val_accuracy: 0.9000\n",
            "Epoch 55/120\n",
            "225/225 [==============================] - 32s 143ms/step - loss: 0.3930 - accuracy: 0.8604 - val_loss: 0.2777 - val_accuracy: 0.9004\n",
            "Epoch 56/120\n",
            "225/225 [==============================] - 32s 143ms/step - loss: 0.3936 - accuracy: 0.8484 - val_loss: 0.2764 - val_accuracy: 0.8993\n",
            "Epoch 57/120\n",
            "225/225 [==============================] - 32s 142ms/step - loss: 0.3866 - accuracy: 0.8597 - val_loss: 0.2770 - val_accuracy: 0.9000\n",
            "Epoch 58/120\n",
            "225/225 [==============================] - 32s 142ms/step - loss: 0.3937 - accuracy: 0.8564 - val_loss: 0.2759 - val_accuracy: 0.9011\n",
            "Epoch 59/120\n",
            "225/225 [==============================] - 32s 143ms/step - loss: 0.3987 - accuracy: 0.8504 - val_loss: 0.2762 - val_accuracy: 0.9007\n",
            "Epoch 60/120\n",
            "225/225 [==============================] - 32s 143ms/step - loss: 0.4040 - accuracy: 0.8509 - val_loss: 0.2756 - val_accuracy: 0.9018\n",
            "Epoch 61/120\n",
            "225/225 [==============================] - 32s 142ms/step - loss: 0.3991 - accuracy: 0.8564 - val_loss: 0.2761 - val_accuracy: 0.9007\n",
            "Epoch 62/120\n",
            "225/225 [==============================] - 32s 144ms/step - loss: 0.3912 - accuracy: 0.8524 - val_loss: 0.2741 - val_accuracy: 0.9000\n",
            "Epoch 63/120\n",
            "225/225 [==============================] - 32s 143ms/step - loss: 0.3909 - accuracy: 0.8584 - val_loss: 0.2754 - val_accuracy: 0.9025\n",
            "Epoch 64/120\n",
            "225/225 [==============================] - 31s 138ms/step - loss: 0.3813 - accuracy: 0.8618 - val_loss: 0.2742 - val_accuracy: 0.9000\n",
            "Epoch 65/120\n",
            "225/225 [==============================] - 31s 137ms/step - loss: 0.3877 - accuracy: 0.8580 - val_loss: 0.2745 - val_accuracy: 0.9025\n",
            "Epoch 66/120\n",
            "225/225 [==============================] - 31s 136ms/step - loss: 0.4022 - accuracy: 0.8544 - val_loss: 0.2726 - val_accuracy: 0.9021\n",
            "Epoch 67/120\n",
            "225/225 [==============================] - 31s 136ms/step - loss: 0.3822 - accuracy: 0.8599 - val_loss: 0.2716 - val_accuracy: 0.9004\n",
            "Epoch 68/120\n",
            "225/225 [==============================] - 31s 137ms/step - loss: 0.3861 - accuracy: 0.8596 - val_loss: 0.2728 - val_accuracy: 0.9021\n",
            "Epoch 69/120\n",
            "225/225 [==============================] - 32s 141ms/step - loss: 0.3780 - accuracy: 0.8576 - val_loss: 0.2733 - val_accuracy: 0.9025\n",
            "Epoch 70/120\n",
            "225/225 [==============================] - 32s 142ms/step - loss: 0.3596 - accuracy: 0.8664 - val_loss: 0.2723 - val_accuracy: 0.9018\n"
          ],
          "name": "stdout"
        }
      ]
    },
    {
      "cell_type": "markdown",
      "metadata": {
        "id": "OhOpLF4V3WUh"
      },
      "source": [
        "#### Learning Curves"
      ]
    },
    {
      "cell_type": "code",
      "metadata": {
        "id": "bxYo7ugk3cOl",
        "colab": {
          "base_uri": "https://localhost:8080/",
          "height": 545
        },
        "outputId": "a8d19044-71a1-4eac-9040-f28a3f5be8cd"
      },
      "source": [
        "plot_measures(history)"
      ],
      "execution_count": null,
      "outputs": [
        {
          "output_type": "display_data",
          "data": {
            "image/png": "[encoded data removed]",
            "text/plain": [
              "<Figure size 432x288 with 1 Axes>"
            ]
          },
          "metadata": {
            "tags": [],
            "needs_background": "light"
          }
        },
        {
          "output_type": "display_data",
          "data": {
            "image/png": "[encoded data removed]",
            "text/plain": [
              "<Figure size 432x288 with 1 Axes>"
            ]
          },
          "metadata": {
            "tags": [],
            "needs_background": "light"
          }
        }
      ]
    },
    {
      "cell_type": "markdown",
      "metadata": {
        "id": "ZbKxtizW3mPY"
      },
      "source": [
        "**NOTE**: These graphs illustrate that the pre-trained model pertains high efficiency in comparison to our previous examples. The model does not overfit. Validation Accuracy can be recorded at 90% and fairly steady. There are no harsh varying peaks."
      ]
    },
    {
      "cell_type": "markdown",
      "metadata": {
        "id": "st8jg0I25Zby"
      },
      "source": [
        "# Fine Tuning (Last Convolutional Block only)"
      ]
    },
    {
      "cell_type": "markdown",
      "metadata": {
        "id": "ETwYsEXB5bQK"
      },
      "source": [
        "Training the Last Convolutional Block:"
      ]
    },
    {
      "cell_type": "code",
      "metadata": {
        "id": "q619bbdx5pIg"
      },
      "source": [
        "#Convolution Base transforms to True\n",
        "conv_base.trainable = True\n",
        "\n",
        "#Excluding the last nine layers, trainable is set to False. Weights are also frozen for all layers except the last 9.\n",
        "for layer in conv_base.layers[:-9]:\n",
        "    layer.trainable=False\n",
        "\n",
        "#For the last 9 layers, trainable is set to True. (the last convolutional block in DENSENET121). Weight is unfrozen for those respective layers.\n",
        "for layer in conv_base.layers[-9:]:\n",
        "    layer.trainable=True"
      ],
      "execution_count": null,
      "outputs": []
    },
    {
      "cell_type": "markdown",
      "metadata": {
        "id": "-HJ6pzxL5x2H"
      },
      "source": [
        "Using a reduced learning rate, the model is trained again with iterations having increased patience in order to carry out Early Stopping:"
      ]
    },
    {
      "cell_type": "code",
      "metadata": {
        "id": "5a2NJIEv7PHJ",
        "colab": {
          "base_uri": "https://localhost:8080/"
        },
        "outputId": "4f0f1a95-9a90-49e1-c1ff-4446269c03b4"
      },
      "source": [
        "opt = tf.keras.optimizers.Adam(learning_rate=1e-5)\n",
        "callback = tf.keras.callbacks.EarlyStopping(monitor='val_accuracy', patience=20, min_delta=1e-3, restore_best_weights=True)\n",
        "\n",
        "\n",
        "model.compile(loss=\"sparse_categorical_crossentropy\", metrics=['accuracy'], optimizer=opt)\n",
        "\n",
        "#Further tuning the model by fitting it for more epochs:\n",
        "history = model.fit(\n",
        "            train_generator,\n",
        "            validation_data = validation_generator,\n",
        "            steps_per_epoch = math.ceil(train_generator.samples/BATCH_SIZE) ,\n",
        "            epochs = 120,\n",
        "            validation_steps = math.ceil(validation_generator.samples/BATCH_SIZE),\n",
        "            callbacks=callback,\n",
        "            verbose = 1)"
      ],
      "execution_count": null,
      "outputs": [
        {
          "output_type": "stream",
          "text": [
            "Epoch 1/120\n",
            "225/225 [==============================] - 32s 142ms/step - loss: 0.5085 - accuracy: 0.8162 - val_loss: 0.3029 - val_accuracy: 0.8890\n",
            "Epoch 2/120\n",
            "225/225 [==============================] - 31s 136ms/step - loss: 0.4741 - accuracy: 0.8311 - val_loss: 0.2912 - val_accuracy: 0.8907\n",
            "Epoch 3/120\n",
            "225/225 [==============================] - 30s 135ms/step - loss: 0.4507 - accuracy: 0.8376 - val_loss: 0.2882 - val_accuracy: 0.8968\n",
            "Epoch 4/120\n",
            "225/225 [==============================] - 30s 134ms/step - loss: 0.4272 - accuracy: 0.8420 - val_loss: 0.2851 - val_accuracy: 0.8950\n",
            "Epoch 5/120\n",
            "225/225 [==============================] - 30s 135ms/step - loss: 0.4402 - accuracy: 0.8414 - val_loss: 0.2831 - val_accuracy: 0.8947\n",
            "Epoch 6/120\n",
            "225/225 [==============================] - 31s 136ms/step - loss: 0.4192 - accuracy: 0.8447 - val_loss: 0.2811 - val_accuracy: 0.8979\n",
            "Epoch 7/120\n",
            "225/225 [==============================] - 31s 136ms/step - loss: 0.4488 - accuracy: 0.8300 - val_loss: 0.2788 - val_accuracy: 0.8989\n",
            "Epoch 8/120\n",
            "225/225 [==============================] - 30s 135ms/step - loss: 0.4306 - accuracy: 0.8391 - val_loss: 0.2769 - val_accuracy: 0.9011\n",
            "Epoch 9/120\n",
            "225/225 [==============================] - 30s 133ms/step - loss: 0.4310 - accuracy: 0.8414 - val_loss: 0.2762 - val_accuracy: 0.9018\n",
            "Epoch 10/120\n",
            "225/225 [==============================] - 30s 134ms/step - loss: 0.4116 - accuracy: 0.8495 - val_loss: 0.2749 - val_accuracy: 0.9028\n",
            "Epoch 11/120\n",
            "225/225 [==============================] - 30s 134ms/step - loss: 0.4259 - accuracy: 0.8508 - val_loss: 0.2765 - val_accuracy: 0.8989\n",
            "Epoch 12/120\n",
            "225/225 [==============================] - 30s 133ms/step - loss: 0.4198 - accuracy: 0.8466 - val_loss: 0.2739 - val_accuracy: 0.9032\n",
            "Epoch 13/120\n",
            "225/225 [==============================] - 30s 133ms/step - loss: 0.4119 - accuracy: 0.8495 - val_loss: 0.2704 - val_accuracy: 0.9036\n",
            "Epoch 14/120\n",
            "225/225 [==============================] - 30s 134ms/step - loss: 0.4097 - accuracy: 0.8524 - val_loss: 0.2704 - val_accuracy: 0.9046\n",
            "Epoch 15/120\n",
            "225/225 [==============================] - 30s 135ms/step - loss: 0.4148 - accuracy: 0.8516 - val_loss: 0.2702 - val_accuracy: 0.9018\n",
            "Epoch 16/120\n",
            "225/225 [==============================] - 30s 135ms/step - loss: 0.4108 - accuracy: 0.8504 - val_loss: 0.2687 - val_accuracy: 0.9032\n",
            "Epoch 17/120\n",
            "225/225 [==============================] - 30s 134ms/step - loss: 0.4221 - accuracy: 0.8443 - val_loss: 0.2673 - val_accuracy: 0.9028\n",
            "Epoch 18/120\n",
            "225/225 [==============================] - 30s 133ms/step - loss: 0.3955 - accuracy: 0.8591 - val_loss: 0.2672 - val_accuracy: 0.9028\n",
            "Epoch 19/120\n",
            "225/225 [==============================] - 30s 133ms/step - loss: 0.4302 - accuracy: 0.8460 - val_loss: 0.2669 - val_accuracy: 0.9025\n",
            "Epoch 20/120\n",
            "225/225 [==============================] - 30s 133ms/step - loss: 0.4248 - accuracy: 0.8443 - val_loss: 0.2641 - val_accuracy: 0.9050\n",
            "Epoch 21/120\n",
            "225/225 [==============================] - 30s 133ms/step - loss: 0.3981 - accuracy: 0.8571 - val_loss: 0.2637 - val_accuracy: 0.9043\n",
            "Epoch 22/120\n",
            "225/225 [==============================] - 30s 134ms/step - loss: 0.4014 - accuracy: 0.8516 - val_loss: 0.2630 - val_accuracy: 0.9032\n",
            "Epoch 23/120\n",
            "225/225 [==============================] - 30s 134ms/step - loss: 0.4093 - accuracy: 0.8508 - val_loss: 0.2620 - val_accuracy: 0.9043\n",
            "Epoch 24/120\n",
            "225/225 [==============================] - 30s 133ms/step - loss: 0.4031 - accuracy: 0.8519 - val_loss: 0.2620 - val_accuracy: 0.9046\n",
            "Epoch 25/120\n",
            "225/225 [==============================] - 30s 134ms/step - loss: 0.4077 - accuracy: 0.8484 - val_loss: 0.2618 - val_accuracy: 0.9039\n",
            "Epoch 26/120\n",
            "225/225 [==============================] - 30s 135ms/step - loss: 0.4179 - accuracy: 0.8469 - val_loss: 0.2623 - val_accuracy: 0.9025\n",
            "Epoch 27/120\n",
            "225/225 [==============================] - 30s 135ms/step - loss: 0.3956 - accuracy: 0.8538 - val_loss: 0.2604 - val_accuracy: 0.9050\n",
            "Epoch 28/120\n",
            "225/225 [==============================] - 30s 135ms/step - loss: 0.4141 - accuracy: 0.8511 - val_loss: 0.2602 - val_accuracy: 0.9060\n",
            "Epoch 29/120\n",
            "225/225 [==============================] - 30s 134ms/step - loss: 0.3986 - accuracy: 0.8566 - val_loss: 0.2577 - val_accuracy: 0.9071\n",
            "Epoch 30/120\n",
            "225/225 [==============================] - 30s 132ms/step - loss: 0.3931 - accuracy: 0.8550 - val_loss: 0.2577 - val_accuracy: 0.9078\n",
            "Epoch 31/120\n",
            "225/225 [==============================] - 30s 134ms/step - loss: 0.3901 - accuracy: 0.8611 - val_loss: 0.2576 - val_accuracy: 0.9075\n",
            "Epoch 32/120\n",
            "225/225 [==============================] - 30s 133ms/step - loss: 0.3949 - accuracy: 0.8631 - val_loss: 0.2567 - val_accuracy: 0.9078\n",
            "Epoch 33/120\n",
            "225/225 [==============================] - 30s 132ms/step - loss: 0.3947 - accuracy: 0.8544 - val_loss: 0.2551 - val_accuracy: 0.9085\n",
            "Epoch 34/120\n",
            "225/225 [==============================] - 30s 133ms/step - loss: 0.3745 - accuracy: 0.8620 - val_loss: 0.2545 - val_accuracy: 0.9100\n",
            "Epoch 35/120\n",
            "225/225 [==============================] - 29s 127ms/step - loss: 0.3911 - accuracy: 0.8662 - val_loss: 0.2552 - val_accuracy: 0.9100\n",
            "Epoch 36/120\n",
            "225/225 [==============================] - 29s 129ms/step - loss: 0.4042 - accuracy: 0.8519 - val_loss: 0.2534 - val_accuracy: 0.9114\n",
            "Epoch 37/120\n",
            "225/225 [==============================] - 29s 130ms/step - loss: 0.3840 - accuracy: 0.8586 - val_loss: 0.2545 - val_accuracy: 0.9103\n",
            "Epoch 38/120\n",
            "225/225 [==============================] - 29s 128ms/step - loss: 0.4139 - accuracy: 0.8500 - val_loss: 0.2530 - val_accuracy: 0.9100\n",
            "Epoch 39/120\n",
            "225/225 [==============================] - 29s 130ms/step - loss: 0.4056 - accuracy: 0.8516 - val_loss: 0.2531 - val_accuracy: 0.9107\n",
            "Epoch 40/120\n",
            "225/225 [==============================] - 29s 128ms/step - loss: 0.3893 - accuracy: 0.8570 - val_loss: 0.2535 - val_accuracy: 0.9107\n",
            "Epoch 41/120\n",
            "225/225 [==============================] - 29s 127ms/step - loss: 0.3782 - accuracy: 0.8628 - val_loss: 0.2507 - val_accuracy: 0.9114\n",
            "Epoch 42/120\n",
            "225/225 [==============================] - 29s 129ms/step - loss: 0.3969 - accuracy: 0.8593 - val_loss: 0.2505 - val_accuracy: 0.9110\n",
            "Epoch 43/120\n",
            "225/225 [==============================] - 29s 129ms/step - loss: 0.3691 - accuracy: 0.8676 - val_loss: 0.2508 - val_accuracy: 0.9128\n",
            "Epoch 44/120\n",
            "225/225 [==============================] - 29s 128ms/step - loss: 0.3832 - accuracy: 0.8607 - val_loss: 0.2505 - val_accuracy: 0.9132\n",
            "Epoch 45/120\n",
            "225/225 [==============================] - 29s 129ms/step - loss: 0.3742 - accuracy: 0.8644 - val_loss: 0.2490 - val_accuracy: 0.9117\n",
            "Epoch 46/120\n",
            "225/225 [==============================] - 29s 127ms/step - loss: 0.3823 - accuracy: 0.8642 - val_loss: 0.2491 - val_accuracy: 0.9132\n",
            "Epoch 47/120\n",
            "225/225 [==============================] - 29s 128ms/step - loss: 0.3810 - accuracy: 0.8629 - val_loss: 0.2481 - val_accuracy: 0.9132\n",
            "Epoch 48/120\n",
            "225/225 [==============================] - 29s 129ms/step - loss: 0.3866 - accuracy: 0.8604 - val_loss: 0.2448 - val_accuracy: 0.9114\n",
            "Epoch 49/120\n",
            "225/225 [==============================] - 29s 128ms/step - loss: 0.3856 - accuracy: 0.8533 - val_loss: 0.2456 - val_accuracy: 0.9128\n",
            "Epoch 50/120\n",
            "225/225 [==============================] - 29s 129ms/step - loss: 0.3831 - accuracy: 0.8609 - val_loss: 0.2462 - val_accuracy: 0.9135\n",
            "Epoch 51/120\n",
            "225/225 [==============================] - 29s 130ms/step - loss: 0.3854 - accuracy: 0.8567 - val_loss: 0.2455 - val_accuracy: 0.9139\n",
            "Epoch 52/120\n",
            "225/225 [==============================] - 29s 128ms/step - loss: 0.3624 - accuracy: 0.8684 - val_loss: 0.2469 - val_accuracy: 0.9142\n",
            "Epoch 53/120\n",
            "225/225 [==============================] - 29s 130ms/step - loss: 0.3844 - accuracy: 0.8622 - val_loss: 0.2447 - val_accuracy: 0.9135\n",
            "Epoch 54/120\n",
            "225/225 [==============================] - 29s 129ms/step - loss: 0.3598 - accuracy: 0.8666 - val_loss: 0.2428 - val_accuracy: 0.9132\n",
            "Epoch 55/120\n",
            "225/225 [==============================] - 29s 129ms/step - loss: 0.3898 - accuracy: 0.8598 - val_loss: 0.2427 - val_accuracy: 0.9128\n",
            "Epoch 56/120\n",
            "225/225 [==============================] - 29s 129ms/step - loss: 0.3592 - accuracy: 0.8702 - val_loss: 0.2418 - val_accuracy: 0.9135\n",
            "Epoch 57/120\n",
            "225/225 [==============================] - 29s 128ms/step - loss: 0.3778 - accuracy: 0.8653 - val_loss: 0.2405 - val_accuracy: 0.9139\n",
            "Epoch 58/120\n",
            "225/225 [==============================] - 30s 131ms/step - loss: 0.3737 - accuracy: 0.8616 - val_loss: 0.2419 - val_accuracy: 0.9142\n",
            "Epoch 59/120\n",
            "225/225 [==============================] - 29s 130ms/step - loss: 0.3718 - accuracy: 0.8676 - val_loss: 0.2413 - val_accuracy: 0.9157\n",
            "Epoch 60/120\n",
            "225/225 [==============================] - 29s 129ms/step - loss: 0.3691 - accuracy: 0.8700 - val_loss: 0.2413 - val_accuracy: 0.9149\n",
            "Epoch 61/120\n",
            "225/225 [==============================] - 29s 129ms/step - loss: 0.3552 - accuracy: 0.8707 - val_loss: 0.2398 - val_accuracy: 0.9142\n",
            "Epoch 62/120\n",
            "225/225 [==============================] - 29s 129ms/step - loss: 0.3697 - accuracy: 0.8642 - val_loss: 0.2412 - val_accuracy: 0.9160\n",
            "Epoch 63/120\n",
            "225/225 [==============================] - 29s 129ms/step - loss: 0.3710 - accuracy: 0.8682 - val_loss: 0.2384 - val_accuracy: 0.9135\n",
            "Epoch 64/120\n",
            "225/225 [==============================] - 29s 130ms/step - loss: 0.3775 - accuracy: 0.8640 - val_loss: 0.2398 - val_accuracy: 0.9160\n",
            "Epoch 65/120\n",
            "225/225 [==============================] - 29s 128ms/step - loss: 0.3626 - accuracy: 0.8724 - val_loss: 0.2392 - val_accuracy: 0.9135\n",
            "Epoch 66/120\n",
            "225/225 [==============================] - 29s 128ms/step - loss: 0.3483 - accuracy: 0.8764 - val_loss: 0.2370 - val_accuracy: 0.9149\n",
            "Epoch 67/120\n",
            "225/225 [==============================] - 29s 129ms/step - loss: 0.3692 - accuracy: 0.8696 - val_loss: 0.2376 - val_accuracy: 0.9153\n",
            "Epoch 68/120\n",
            "225/225 [==============================] - 29s 128ms/step - loss: 0.3712 - accuracy: 0.8647 - val_loss: 0.2357 - val_accuracy: 0.9149\n",
            "Epoch 69/120\n",
            "225/225 [==============================] - 30s 132ms/step - loss: 0.3691 - accuracy: 0.8731 - val_loss: 0.2351 - val_accuracy: 0.9128\n",
            "Epoch 70/120\n",
            "225/225 [==============================] - 29s 130ms/step - loss: 0.3640 - accuracy: 0.8700 - val_loss: 0.2350 - val_accuracy: 0.9128\n",
            "Epoch 71/120\n",
            "225/225 [==============================] - 29s 129ms/step - loss: 0.3696 - accuracy: 0.8682 - val_loss: 0.2361 - val_accuracy: 0.9153\n",
            "Epoch 72/120\n",
            "225/225 [==============================] - 29s 129ms/step - loss: 0.3547 - accuracy: 0.8673 - val_loss: 0.2360 - val_accuracy: 0.9142\n",
            "Epoch 73/120\n",
            "225/225 [==============================] - 29s 129ms/step - loss: 0.3438 - accuracy: 0.8756 - val_loss: 0.2333 - val_accuracy: 0.9153\n",
            "Epoch 74/120\n",
            "225/225 [==============================] - 29s 128ms/step - loss: 0.3600 - accuracy: 0.8758 - val_loss: 0.2339 - val_accuracy: 0.9167\n",
            "Epoch 75/120\n",
            "225/225 [==============================] - 29s 129ms/step - loss: 0.3385 - accuracy: 0.8787 - val_loss: 0.2354 - val_accuracy: 0.9164\n",
            "Epoch 76/120\n",
            "225/225 [==============================] - 29s 127ms/step - loss: 0.3570 - accuracy: 0.8707 - val_loss: 0.2346 - val_accuracy: 0.9171\n",
            "Epoch 77/120\n",
            "225/225 [==============================] - 29s 130ms/step - loss: 0.3568 - accuracy: 0.8753 - val_loss: 0.2324 - val_accuracy: 0.9167\n",
            "Epoch 78/120\n",
            "225/225 [==============================] - 29s 130ms/step - loss: 0.3550 - accuracy: 0.8678 - val_loss: 0.2327 - val_accuracy: 0.9171\n",
            "Epoch 79/120\n",
            "225/225 [==============================] - 29s 129ms/step - loss: 0.3453 - accuracy: 0.8722 - val_loss: 0.2303 - val_accuracy: 0.9160\n",
            "Epoch 80/120\n",
            "225/225 [==============================] - 29s 129ms/step - loss: 0.3471 - accuracy: 0.8742 - val_loss: 0.2296 - val_accuracy: 0.9157\n",
            "Epoch 81/120\n",
            "225/225 [==============================] - 29s 128ms/step - loss: 0.3447 - accuracy: 0.8702 - val_loss: 0.2301 - val_accuracy: 0.9157\n",
            "Epoch 82/120\n",
            "225/225 [==============================] - 29s 128ms/step - loss: 0.3658 - accuracy: 0.8675 - val_loss: 0.2293 - val_accuracy: 0.9178\n",
            "Epoch 83/120\n",
            "225/225 [==============================] - 29s 128ms/step - loss: 0.3357 - accuracy: 0.8760 - val_loss: 0.2298 - val_accuracy: 0.9181\n",
            "Epoch 84/120\n",
            "225/225 [==============================] - 29s 129ms/step - loss: 0.3565 - accuracy: 0.8764 - val_loss: 0.2305 - val_accuracy: 0.9174\n",
            "Epoch 85/120\n",
            "225/225 [==============================] - 29s 129ms/step - loss: 0.3539 - accuracy: 0.8702 - val_loss: 0.2302 - val_accuracy: 0.9178\n",
            "Epoch 86/120\n",
            "225/225 [==============================] - 29s 129ms/step - loss: 0.3482 - accuracy: 0.8733 - val_loss: 0.2310 - val_accuracy: 0.9171\n",
            "Epoch 87/120\n",
            "225/225 [==============================] - 29s 129ms/step - loss: 0.3383 - accuracy: 0.8798 - val_loss: 0.2297 - val_accuracy: 0.9174\n",
            "Epoch 88/120\n",
            "225/225 [==============================] - 29s 130ms/step - loss: 0.3310 - accuracy: 0.8780 - val_loss: 0.2299 - val_accuracy: 0.9189\n",
            "Epoch 89/120\n",
            "225/225 [==============================] - 29s 130ms/step - loss: 0.3359 - accuracy: 0.8802 - val_loss: 0.2300 - val_accuracy: 0.9185\n",
            "Epoch 90/120\n",
            "225/225 [==============================] - 30s 132ms/step - loss: 0.3421 - accuracy: 0.8764 - val_loss: 0.2312 - val_accuracy: 0.9157\n",
            "Epoch 91/120\n",
            "225/225 [==============================] - 29s 131ms/step - loss: 0.3317 - accuracy: 0.8827 - val_loss: 0.2289 - val_accuracy: 0.9167\n",
            "Epoch 92/120\n",
            "225/225 [==============================] - 29s 129ms/step - loss: 0.3388 - accuracy: 0.8751 - val_loss: 0.2290 - val_accuracy: 0.9171\n",
            "Epoch 93/120\n",
            "225/225 [==============================] - 29s 128ms/step - loss: 0.3305 - accuracy: 0.8785 - val_loss: 0.2268 - val_accuracy: 0.9167\n",
            "Epoch 94/120\n",
            "225/225 [==============================] - 29s 129ms/step - loss: 0.3565 - accuracy: 0.8718 - val_loss: 0.2281 - val_accuracy: 0.9167\n",
            "Epoch 95/120\n",
            "225/225 [==============================] - 29s 129ms/step - loss: 0.3361 - accuracy: 0.8822 - val_loss: 0.2275 - val_accuracy: 0.9181\n",
            "Epoch 96/120\n",
            "225/225 [==============================] - 29s 128ms/step - loss: 0.3621 - accuracy: 0.8653 - val_loss: 0.2283 - val_accuracy: 0.9171\n",
            "Epoch 97/120\n",
            "225/225 [==============================] - 29s 130ms/step - loss: 0.3131 - accuracy: 0.8938 - val_loss: 0.2310 - val_accuracy: 0.9160\n",
            "Epoch 98/120\n",
            "225/225 [==============================] - 29s 128ms/step - loss: 0.3198 - accuracy: 0.8849 - val_loss: 0.2250 - val_accuracy: 0.9167\n",
            "Epoch 99/120\n",
            "225/225 [==============================] - 29s 128ms/step - loss: 0.3292 - accuracy: 0.8776 - val_loss: 0.2245 - val_accuracy: 0.9167\n",
            "Epoch 100/120\n",
            "225/225 [==============================] - 29s 130ms/step - loss: 0.3409 - accuracy: 0.8798 - val_loss: 0.2236 - val_accuracy: 0.9181\n",
            "Epoch 101/120\n",
            "225/225 [==============================] - 30s 132ms/step - loss: 0.3286 - accuracy: 0.8787 - val_loss: 0.2246 - val_accuracy: 0.9167\n",
            "Epoch 102/120\n",
            "225/225 [==============================] - 29s 131ms/step - loss: 0.3316 - accuracy: 0.8836 - val_loss: 0.2228 - val_accuracy: 0.9164\n",
            "Epoch 103/120\n",
            "225/225 [==============================] - 29s 131ms/step - loss: 0.3404 - accuracy: 0.8816 - val_loss: 0.2213 - val_accuracy: 0.9164\n",
            "Epoch 104/120\n",
            "225/225 [==============================] - 29s 131ms/step - loss: 0.3280 - accuracy: 0.8747 - val_loss: 0.2252 - val_accuracy: 0.9153\n",
            "Epoch 105/120\n",
            "225/225 [==============================] - 30s 132ms/step - loss: 0.3245 - accuracy: 0.8791 - val_loss: 0.2238 - val_accuracy: 0.9153\n",
            "Epoch 106/120\n",
            "225/225 [==============================] - 30s 133ms/step - loss: 0.3130 - accuracy: 0.8860 - val_loss: 0.2241 - val_accuracy: 0.9157\n",
            "Epoch 107/120\n",
            "225/225 [==============================] - 30s 131ms/step - loss: 0.3374 - accuracy: 0.8780 - val_loss: 0.2233 - val_accuracy: 0.9164\n",
            "Epoch 108/120\n",
            "225/225 [==============================] - 30s 133ms/step - loss: 0.3235 - accuracy: 0.8889 - val_loss: 0.2205 - val_accuracy: 0.9142\n"
          ],
          "name": "stdout"
        }
      ]
    },
    {
      "cell_type": "markdown",
      "metadata": {
        "id": "oIBak9CXH7tw"
      },
      "source": [
        "#### Learning Curves"
      ]
    },
    {
      "cell_type": "code",
      "metadata": {
        "id": "Vxfpajw0H85W",
        "colab": {
          "base_uri": "https://localhost:8080/",
          "height": 545
        },
        "outputId": "fa10eede-fa43-482e-b185-18537cfa3ef9"
      },
      "source": [
        "plot_measures(history)"
      ],
      "execution_count": null,
      "outputs": [
        {
          "output_type": "display_data",
          "data": {
            "image/png": "[encoded data removed]",
            "text/plain": [
              "<Figure size 432x288 with 1 Axes>"
            ]
          },
          "metadata": {
            "tags": [],
            "needs_background": "light"
          }
        },
        {
          "output_type": "display_data",
          "data": {
            "image/png": "[encoded data removed]",
            "text/plain": [
              "<Figure size 432x288 with 1 Axes>"
            ]
          },
          "metadata": {
            "tags": [],
            "needs_background": "light"
          }
        }
      ]
    },
    {
      "cell_type": "markdown",
      "metadata": {
        "id": "Q8Tq_QfLX8Qm"
      },
      "source": [
        "**NOTE**: With the result of fine tuning and being able to train the final convolutional block, a minor but salient improvement in the validation accuracy can be seen. We record peaks reaching 92% which is an all-time high value in comparison to our previous model version runs."
      ]
    },
    {
      "cell_type": "code",
      "metadata": {
        "id": "zI8YPlKhIHDQ"
      },
      "source": [
        "#Save module to Disk\n",
        "model.save(\"intel-finetuned.h5\")"
      ],
      "execution_count": null,
      "outputs": []
    },
    {
      "cell_type": "markdown",
      "metadata": {
        "id": "_os4u2fCISZQ"
      },
      "source": [
        "#Model Validation"
      ]
    },
    {
      "cell_type": "markdown",
      "metadata": {
        "id": "DgOjrHXWIVyP"
      },
      "source": [
        "### Image Generator (test)"
      ]
    },
    {
      "cell_type": "code",
      "metadata": {
        "id": "xH3DqeVsIXVU",
        "colab": {
          "base_uri": "https://localhost:8080/"
        },
        "outputId": "cd740b08-a61e-4537-8c9a-d35f906d52b2"
      },
      "source": [
        "test_dir = os.path.join(baseDir, testDir)\n",
        "\n",
        "#ImageDataGenerator reads test images:\n",
        "test_datagen = ImageDataGenerator(rescale=1./255)\n",
        "test_generator = test_datagen.flow_from_directory(\n",
        "    test_dir,\n",
        "    target_size= (150, 150),\n",
        "    batch_size= BATCH_SIZE,\n",
        "    shuffle= False,\n",
        "    class_mode= 'sparse')"
      ],
      "execution_count": null,
      "outputs": [
        {
          "output_type": "stream",
          "text": [
            "Found 3000 images belonging to 6 classes.\n"
          ],
          "name": "stdout"
        }
      ]
    },
    {
      "cell_type": "markdown",
      "metadata": {
        "id": "tB-2D_SnI09-"
      },
      "source": [
        "###Model Accuracy (Transfer Learning version)"
      ]
    },
    {
      "cell_type": "code",
      "metadata": {
        "id": "YzPh6uE0I2dh",
        "colab": {
          "base_uri": "https://localhost:8080/"
        },
        "outputId": "36e3d9f2-3ac4-43d3-980f-23129dc094df"
      },
      "source": [
        "test_loss, test_acc = model.evaluate(test_generator, steps=math.ceil(test_generator.samples/BATCH_SIZE))\n",
        "print('Test Data Accuracy', test_acc)"
      ],
      "execution_count": null,
      "outputs": [
        {
          "output_type": "stream",
          "text": [
            "60/60 [==============================] - 4s 67ms/step - loss: 0.2651 - accuracy: 0.9057\n",
            "Test Data Accuracy 0.9056666493415833\n"
          ],
          "name": "stdout"
        }
      ]
    },
    {
      "cell_type": "markdown",
      "metadata": {
        "id": "hjZJhP87I-IP"
      },
      "source": [
        "#Illustrating a Confusion Matrix Visualization"
      ]
    },
    {
      "cell_type": "code",
      "metadata": {
        "id": "uTcKU4PKI_oQ"
      },
      "source": [
        "predictions = model.predict(test_generator, steps=math.ceil(test_generator.samples/BATCH_SIZE))"
      ],
      "execution_count": null,
      "outputs": []
    },
    {
      "cell_type": "code",
      "metadata": {
        "id": "VNagoXdEI_Ok",
        "colab": {
          "base_uri": "https://localhost:8080/"
        },
        "outputId": "fe70a4fa-0a84-4556-a346-13cdc7a6fbcd"
      },
      "source": [
        "from sklearn.metrics import confusion_matrix\n",
        "\n",
        "confusion_matrix(test_generator.classes, np.argmax(predictions, axis= 1), list(test_generator.class_indices.values()))"
      ],
      "execution_count": null,
      "outputs": [
        {
          "output_type": "execute_result",
          "data": {
            "text/plain": [
              "array([[387,   1,   0,   1,   5,  43],\n",
              "       [  0, 472,   1,   0,   0,   1],\n",
              "       [  1,   3, 474,  52,  22,   1],\n",
              "       [  2,   3,  77, 428,  14,   1],\n",
              "       [  7,   3,   6,   4, 488,   2],\n",
              "       [ 31,   0,   0,   0,   2, 468]])"
            ]
          },
          "metadata": {
            "tags": []
          },
          "execution_count": 35
        }
      ]
    },
    {
      "cell_type": "code",
      "metadata": {
        "id": "SoMcCkh0J_zS",
        "colab": {
          "base_uri": "https://localhost:8080/",
          "height": 510
        },
        "outputId": "f6a9b9d4-3748-462e-a9b9-1530f9476c75"
      },
      "source": [
        "import seaborn as sns\n",
        "import matplotlib.pyplot as plt     \n",
        "\n",
        "plt.figure(figsize=(8, 6))\n",
        "ax= plt.subplot()\n",
        "sns.heatmap(confusion_matrix(test_generator.classes, np.argmax(predictions, axis= 1), list(test_generator.class_indices.values())), \n",
        "            annot=True, ax = ax)\n",
        "\n",
        "# Displaying titles, labels, and ticks. \n",
        "ax.set_xlabel('Predicted labels');ax.set_ylabel('True labels')\n",
        "ax.set_title('Confusion Matrix')\n",
        "ax.xaxis.set_ticklabels(list(test_generator.class_indices.keys())); ax.yaxis.set_ticklabels(list(test_generator.class_indices.keys()))"
      ],
      "execution_count": null,
      "outputs": [
        {
          "output_type": "execute_result",
          "data": {
            "text/plain": [
              "[Text(0, 0.5, 'buildings'),\n",
              " Text(0, 1.5, 'forest'),\n",
              " Text(0, 2.5, 'glacier'),\n",
              " Text(0, 3.5, 'mountain'),\n",
              " Text(0, 4.5, 'sea'),\n",
              " Text(0, 5.5, 'street')]"
            ]
          },
          "metadata": {
            "tags": []
          },
          "execution_count": 36
        },
        {
          "output_type": "display_data",
          "data": {
            "image/png": "[encoded data removed]",
            "text/plain": [
              "<Figure size 576x432 with 2 Axes>"
            ]
          },
          "metadata": {
            "tags": [],
            "needs_background": "light"
          }
        }
      ]
    },
    {
      "cell_type": "markdown",
      "metadata": {
        "id": "96uosa7_OSBQ"
      },
      "source": [
        "**NOTE**: The Confusion Matrix illustrates that the model incorrectly classifies categories \"glacier\" & \"mountain\" along with \"building\" & \"street\". 4.7e+02 for glacier is a True Positive (model identified glaciers correctly) and in contrast 4.3e+02 for mountains is a True Negative (they are pictures of glaciers, but the model predicted that they aren't). 77 pictures were classified as glaciers, but in actuality were not. 52 pictures were of glaciers, but the model predicted that they were of mountains."
      ]
    },
    {
      "cell_type": "markdown",
      "metadata": {
        "id": "vExh8L60vCO2"
      },
      "source": [
        "# Research "
      ]
    },
    {
      "cell_type": "markdown",
      "metadata": {
        "id": "kWhVXB-SvFKm"
      },
      "source": [
        "Awarded first place for Intel Image Classification, this solution used Transfer Learning, Progressive Image Resizing used Keras architecture ResNet50 [1]. Those pre-trained ImageNet weights were trained on a model with images incrementally increasing in size. We used DenseNet121, and did pretty much the same thing (pertaining to default image transformation, batch normalization and learning rate optimizer). Their test accuracy was 94%. However, they also used Places365 Dataset Weights for ResNet50 transfer learning and attained test accuracy of 95%. \n",
        "\n",
        "kNN with Embeddings was another approach that they took, and is commonly described as the representation of images via feature vectors which is predominantly the model's last layer output before softmax activation (also known as few-shot learning). \n",
        "\n",
        "Test Time Augmentation was also another approach that they used. This method consitutes more or less of the same mechanism as Data Augmentation, the difference being that augmented images are shown to the model several times[2]. The predictions of each corresponding image are then averaged, and that is proclaimed the final guess. \n",
        "\n",
        "In terms of test performance, in this assignment we managed to achieve a test accuracy of 90% compared to the maximum achieved by the researched winning model which was 95%. We used DenseNet primarily because each layer in the network received additional input from its preceding layers and henceforth all subsequent layers received said DenseNet feature maps. This results in a network that has a fewer number of channels, resulting in enhanced computing efficiency[3]. \n",
        "\n",
        "Additionally (and in contrast to typical ResNet versions), for our model, DenseNet121 ensures that there is no vanishing-gradient, enhances feature propagation, enables the re-use of features, and largely cuts back on the number of parameters[4]. \n",
        "\n",
        "The list of approaches mentioned above are only some of the myriad ways that many people have approached the Intel Image Classification problem. \n",
        "\n",
        "**References**: \n",
        "1) https://towardsdatascience.com/1st-place-solution-for-intel-scene-classification-challenge-c95cf941f8ed\n",
        "\n",
        "2) https://towardsdatascience.com/test-time-augmentation-tta-and-how-to-perform-it-with-keras-4ac19b67fb4d\n",
        "\n",
        "3) https://towardsdatascience.com/review-densenet-image-classification-b6631a8ef803\n",
        "\n",
        "4) https://arxiv.org/abs/1608.06993\n"
      ]
    }
  ]
}